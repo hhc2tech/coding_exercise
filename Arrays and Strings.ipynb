{
 "cells": [
  {
   "cell_type": "code",
   "execution_count": 1,
   "metadata": {
    "collapsed": true
   },
   "outputs": [],
   "source": [
    "from __future__ import print_function"
   ]
  },
  {
   "cell_type": "markdown",
   "metadata": {
    "collapsed": true
   },
   "source": [
    "# Arrays"
   ]
  },
  {
   "cell_type": "markdown",
   "metadata": {},
   "source": [
    "## Merge two sorted array\n",
    "[Leetcode source](https://leetcode.com/problems/merge-sorted-array/description/)\n",
    "\n",
    "Given two sorted integer arrays nums1 and nums2, merge nums2 into nums1 as one sorted array.\n",
    "\n",
    "Note:\n",
    "You may assume that nums1 has enough space (size that is greater or equal to m + n) to hold additional elements from nums2. The number of elements initialized in nums1 and nums2 are m and n respectively.\n",
    "\n",
    "\n"
   ]
  },
  {
   "cell_type": "code",
   "execution_count": 2,
   "metadata": {},
   "outputs": [
    {
     "name": "stdout",
     "output_type": "stream",
     "text": [
      "[1, 2, 3, 4, 5, 7, 8, 9]\n"
     ]
    }
   ],
   "source": [
    "def merge(num1, m, num2, n):\n",
    "    \"\"\"\n",
    "    num1 have at least m+ n spaces, but consider its first m elements \n",
    "    \"\"\"\n",
    "    # idea: from the end \n",
    "    while m and n: \n",
    "        if num1[m-1] > num2[n-1]: \n",
    "            num1[m+n-1] = num1[m-1]\n",
    "            m -= 1\n",
    "        else: \n",
    "            num1[m+n-1] = num2[n-1]\n",
    "            n -= 1\n",
    "    if n: num1[:n] = num2[:n]\n",
    "\n",
    "\n",
    "    \n",
    "    \n",
    "num1 = [1, 4, 7, 8, None, None, None, None]\n",
    "num2 = [2, 3, 5, 9, None]\n",
    "\n",
    "merge(num1, 4, num2, 4)\n",
    "print(num1)\n"
   ]
  },
  {
   "cell_type": "markdown",
   "metadata": {},
   "source": [
    "## Two sum \n",
    "\n",
    "[Leetcode source](https://leetcode.com/problems/two-sum/description/)\n",
    "\n",
    "Given an array of integers, return indices of the two numbers such that they add up to a specific target.\n",
    "\n",
    "You may assume that each input would have exactly one solution, and you may not use the same element twice.\n",
    "\n",
    "Example\n",
    "```\n",
    "Given nums = [2, 7, 11, 15], target = 9,\n",
    "\n",
    "Because nums[0] + nums[1] = 2 + 7 = 9,\n",
    "return [0, 1].\n",
    "```"
   ]
  },
  {
   "cell_type": "code",
   "execution_count": 3,
   "metadata": {},
   "outputs": [
    {
     "name": "stdout",
     "output_type": "stream",
     "text": [
      "nums = [2, 7, 11, 15], target =  9 , results =  [0, 1]\n",
      "nums = [2, 7, 11, 15], target =  22 , results =  [1, 3]\n"
     ]
    }
   ],
   "source": [
    "def two_sum(nums, target):\n",
    "    # idea: using dictionary (hash table)\n",
    "    d = {} \n",
    "    for i, n in enumerate(nums): \n",
    "        if target - n in d: \n",
    "            return [d[target-n], i] \n",
    "        d[n] = i \n",
    "            \n",
    "        \n",
    "    \n",
    "nums, target = [2, 7, 11, 15], 9 \n",
    "print('nums = '+ str(nums)+ ', target = ', str(target), ', results = ', \n",
    "     str(two_sum(nums, target)))\n",
    "\n",
    "\n",
    "nums, target = [2, 7, 11, 15], 22\n",
    "print('nums = '+ str(nums)+ ', target = ', str(target), ', results = ', \n",
    "     str(two_sum(nums, target)))\n"
   ]
  },
  {
   "cell_type": "markdown",
   "metadata": {},
   "source": [
    "## Maximum subarray\n",
    "\n",
    "[Leetcode source](https://leetcode.com/problems/maximum-subarray/description/)\n",
    "\n",
    "Find the contiguous subarray within an array (containing at least one number) which has the largest sum.\n",
    "\n",
    "For example, given the array [-2,1,-3,4,-1,2,1,-5,4],\n",
    "the contiguous subarray [4,-1,2,1] has the largest sum = 6.\n",
    "\n",
    "click to show more practice.\n",
    "\n",
    "More practice:\n",
    "If you have figured out the O(n) solution, try coding another solution using the divide and conquer approach, which is more subtle.\n",
    "\n"
   ]
  },
  {
   "cell_type": "code",
   "execution_count": 4,
   "metadata": {},
   "outputs": [
    {
     "name": "stdout",
     "output_type": "stream",
     "text": [
      "6\n"
     ]
    }
   ],
   "source": [
    "def max_sub(nums):\n",
    "    max_all = float('-inf')\n",
    "    max_cur = 0 \n",
    "    for n in nums: \n",
    "        max_cur = max(max_cur + n, n)\n",
    "        max_all = max(max_all, max_cur) \n",
    "    return max_all\n",
    "#     pass \n",
    "\n",
    "nums = [-2,1,-3,4,-1,2,1,-5,4]\n",
    "# the contiguous subarray [4,-1,2,1] \n",
    "\n",
    "print(max_sub(nums))"
   ]
  },
  {
   "cell_type": "markdown",
   "metadata": {},
   "source": [
    "## Product of three \n",
    "[Leetcode source](https://leetcode.com/problems/maximum-product-of-three-numbers/description/)\n",
    "\n",
    "Given an integer array, find three numbers whose product is maximum and output the maximum product.\n",
    "\n",
    "Example 1:\n",
    "```\n",
    "Input: [1,2,3]\n",
    "Output: 6\n",
    "```\n",
    "Example 2:\n",
    "```\n",
    "Input: [1,2,3,4]\n",
    "Output: 24\n",
    "```\n",
    "\n",
    "Note:\n",
    "\n",
    "The length of the given array will be in range [3,104] and all elements are in the range [-1000, 1000].\n",
    "\n",
    "Multiplication of any three numbers in the input won't exceed the range of 32-bit signed integer.\n"
   ]
  },
  {
   "cell_type": "code",
   "execution_count": 5,
   "metadata": {},
   "outputs": [
    {
     "name": "stdout",
     "output_type": "stream",
     "text": [
      "\n",
      "Array: [1, 2, 3, 4, -2, -5]\n",
      "   Method 0, result = 40\n",
      "   Method 1, result = 40\n",
      "   Method 2, result = 40\n",
      "\n",
      "Array: [-1, -2, -4]\n",
      "   Method 0, result = -8\n",
      "   Method 1, result = -8\n",
      "   Method 2, result = -8\n",
      "\n",
      "Array: [1, 2, 3]\n",
      "   Method 0, result = 6\n",
      "   Method 1, result = 6\n",
      "   Method 2, result = 6\n"
     ]
    }
   ],
   "source": [
    "## sorting solution O(nlogn)\n",
    "def maximumProduct1(nums): \n",
    "    nums.sort()\n",
    "    return max(nums[-1]*nums[-2]*nums[-3], nums[-1]*nums[0]*nums[1])\n",
    "#     pass \n",
    "\n",
    "## heapq \n",
    "def maximumProduct2(nums):\n",
    "    ## getting 3 largest numbers or 2 smallest number is faster then sorting \n",
    "    # O(3n) \n",
    "    import heapq \n",
    "    mins = sorted(heapq.nsmallest(2, nums))\n",
    "    maxs = sorted(heapq.nlargest(3, nums))\n",
    "    return max(maxs[-1]*maxs[-2]*maxs[-3], maxs[-1]*mins[0]*mins[1])\n",
    "\n",
    "## no heapq, no sorting O(n)\n",
    "def maximumProduct3(nums):\n",
    "#     min_arr = sorted(nums[:2])\n",
    "#     max_arr = sorted(nums[:3])\n",
    "    inf = float('inf')\n",
    "    ninf = float('-inf')\n",
    "    max_arr = [ninf, ninf, ninf] \n",
    "    min_arr = [inf, inf]\n",
    "    for n in nums:\n",
    "        # update max_arr \n",
    "        if n > max_arr[2]:\n",
    "            max_arr = [max_arr[1], max_arr[2], n]\n",
    "        elif n > max_arr[1]:\n",
    "            vmax_arr = [max_arr[1], n, max_arr[2]]\n",
    "        elif n > max_arr[0]:\n",
    "            max_arr[0] = n \n",
    "        # update min_arr \n",
    "        if n < min_arr[0]:\n",
    "            min_arr = [n, min_arr[0]]\n",
    "        elif n < min_arr[1]:\n",
    "            min_arr = [min_arr[0], n]\n",
    "            \n",
    "    return max(min_arr[0]*min_arr[1]*max_arr[-1], max_arr[0]*max_arr[1]*max_arr[2])\n",
    "\n",
    "nums1 = [1, 2, 3, 4, -2, -5]\n",
    "nums2 = [-1, -2, -4]\n",
    "nums3 = [1, 2, 3]\n",
    "for nums in [nums1, nums2, nums3]:\n",
    "    print('\\nArray: ' + str(nums))\n",
    "    for i, f in enumerate([maximumProduct1, maximumProduct2, maximumProduct3]):\n",
    "            print('   Method ' + str(i) + ', result = ' + str(f(nums)))"
   ]
  },
  {
   "cell_type": "code",
   "execution_count": 6,
   "metadata": {},
   "outputs": [
    {
     "name": "stdout",
     "output_type": "stream",
     "text": [
      "time method 1\n",
      "10000000 loops, best of 3: 25.6 ns per loop\n",
      "time method 2\n",
      "10000000 loops, best of 3: 26.2 ns per loop\n",
      "time method 3\n",
      "10000000 loops, best of 3: 26.6 ns per loop\n"
     ]
    }
   ],
   "source": [
    "print('time method 1')\n",
    "%timeit maximumProduct1\n",
    "print('time method 2')\n",
    "%timeit maximumProduct2\n",
    "print('time method 3')\n",
    "%timeit maximumProduct3"
   ]
  },
  {
   "cell_type": "code",
   "execution_count": 7,
   "metadata": {},
   "outputs": [
    {
     "name": "stdout",
     "output_type": "stream",
     "text": [
      "Help on function nsmallest in module heapq:\n",
      "\n",
      "nsmallest(n, iterable, key=None)\n",
      "    Find the n smallest elements in a dataset.\n",
      "    \n",
      "    Equivalent to:  sorted(iterable, key=key)[:n]\n",
      "\n"
     ]
    }
   ],
   "source": [
    "import heapq \n",
    "help(heapq.nsmallest)"
   ]
  },
  {
   "cell_type": "markdown",
   "metadata": {},
   "source": [
    "##  Minimum path sum\n",
    "[Leetcode](https://leetcode.com/problems/minimum-path-sum/description/)\n",
    "\n",
    "Given a m x n grid filled with non-negative numbers, find a path from top left to bottom right which minimizes the sum of all numbers along its path.\n",
    "\n",
    "Note: You can only move either down or right at any point in time.\n",
    "\n",
    "Example 1:\n",
    "```\n",
    "[[1,3,1],\n",
    " [1,5,1],\n",
    " [4,2,1]]\n",
    "Given the above grid map, return 7. Because the path 1→3→1→1→1 minimizes the sum.\n",
    "```"
   ]
  },
  {
   "cell_type": "code",
   "execution_count": 8,
   "metadata": {},
   "outputs": [
    {
     "name": "stdout",
     "output_type": "stream",
     "text": [
      "7\n",
      "7\n"
     ]
    }
   ],
   "source": [
    "# space O(mn)\n",
    "def min_path_sum1(grid):\n",
    "    if not grid or not grid[0]: return 0 \n",
    "    m, n = len(grid), len(grid[0])\n",
    "    d = [[0]*n for _ in range(m)]\n",
    "    d[0][0] = grid[0][0]\n",
    "    for i in range(m):\n",
    "        for j in range(n):\n",
    "            if i+j: \n",
    "                d[i][j] = min(d[x][y] for (x, y) in [(i-1, j), (i, j-1)] if 0 <= x and \n",
    "                            0 <= y) + grid[i][j]\n",
    "    return d[-1][-1]\n",
    "\n",
    "# space O(n) (49ms)\n",
    "def min_path_sum2(grid):\n",
    "    if not grid or not grid[0]: return 0 \n",
    "    m, n = len(grid), len(grid[0])\n",
    "    d = [float('inf') for _ in range(n+1)]\n",
    "    d[0] = 0\n",
    "    for i in range(m):\n",
    "        for j in range(n): \n",
    "            d[j] = min(d[j-1], d[j]) + grid[i][j]\n",
    "    return d[-2]\n",
    "\n",
    "grid = [[1,3,1],\n",
    " [1,5,1],\n",
    " [4,2,1]] \n",
    "\n",
    "print(min_path_sum1(grid))\n",
    "print(min_path_sum2(grid))"
   ]
  },
  {
   "cell_type": "markdown",
   "metadata": {},
   "source": [
    "## Rotate matrix \n",
    "[source](https://leetcode.com/problems/rotate-image/description/)\n",
    "\n",
    "You are given an n x n 2D matrix representing an image.\n",
    "\n",
    "Rotate the image by 90 degrees (clockwise).\n",
    "\n",
    "Note:\n",
    "You have to rotate the image in-place, which means you have to modify the input 2D matrix directly. DO NOT allocate another 2D matrix and do the rotation.\n",
    "\n",
    "Example 1:\n",
    "```\n",
    "Given input matrix = \n",
    "[\n",
    "  [1,2,3],\n",
    "  [4,5,6],\n",
    "  [7,8,9]\n",
    "],\n",
    "\n",
    "rotate the input matrix in-place such that it becomes:\n",
    "[\n",
    "  [7,4,1],\n",
    "  [8,5,2],\n",
    "  [9,6,3]\n",
    "]\n",
    "```\n",
    "Example 2:\n",
    "```\n",
    "Given input matrix =\n",
    "[\n",
    "  [ 5, 1, 9,11],\n",
    "  [ 2, 4, 8,10],\n",
    "  [13, 3, 6, 7],\n",
    "  [15,14,12,16]\n",
    "], \n",
    "\n",
    "rotate the input matrix in-place such that it becomes:\n",
    "[\n",
    "  [15,13, 2, 5],\n",
    "  [14, 3, 4, 1],\n",
    "  [12, 6, 8, 9],\n",
    "  [16, 7,10,11]\n",
    "]\n",
    "```"
   ]
  },
  {
   "cell_type": "code",
   "execution_count": 9,
   "metadata": {},
   "outputs": [
    {
     "name": "stdout",
     "output_type": "stream",
     "text": [
      "[(7, 4, 1), (8, 5, 2), (9, 6, 3)]\n",
      "[[7, 4, 1], [8, 5, 2], [9, 6, 3]]\n",
      "[(15, 13, 2, 5), (14, 3, 4, 1), (12, 6, 8, 9), (16, 7, 10, 11)]\n",
      "[[15, 13, 2, 5], [14, 3, 4, 1], [12, 6, 8, 9], [16, 7, 10, 11]]\n",
      "[(7, 4, 1), (8, 5, 2), (9, 6, 3)]\n"
     ]
    }
   ],
   "source": [
    "# fast solution (little bit cheat)\n",
    "def rotate_n90_1(matrix):\n",
    "    return [a for a in zip(*matrix[::-1])]\n",
    "def rotate_90_1(matrix):\n",
    "    return [a for a in zip(*matrix)[::-1]]\n",
    "\n",
    "# truly in place \n",
    "\n",
    "def rotate_n90_2(matrix):\n",
    "    if not matrix: return [] \n",
    "    n = len(matrix) \n",
    "    for i in range(n//2):\n",
    "        for j in range(n - n//2):\n",
    "            matrix[j][~i], matrix[~i][~j], matrix[~j][i], matrix[i][j] = \\\n",
    "                matrix[i][j], matrix[j][~i], matrix[~i][~j], matrix[~j][i]\n",
    "    return matrix \n",
    "\n",
    "matrix1 = [\n",
    "  [1,2,3],\n",
    "  [4,5,6],\n",
    "  [7,8,9]\n",
    "]\n",
    "\n",
    "matrix2 = [\n",
    "  [ 5, 1, 9,11],\n",
    "  [ 2, 4, 8,10],\n",
    "  [13, 3, 6, 7],\n",
    "  [15,14,12,16]\n",
    "]\n",
    "\n",
    "print(rotate_n90_1(matrix1))\n",
    "print(rotate_n90_2(matrix1))\n",
    "\n",
    "print(rotate_n90_1(matrix2))\n",
    "print(rotate_n90_2(matrix2))\n",
    "\n",
    "print(rotate_90_1(rotate_n90_1(matrix1)))"
   ]
  },
  {
   "cell_type": "markdown",
   "metadata": {},
   "source": [
    "## Spiral matrix \n",
    "[Leetcode source](https://leetcode.com/problems/spiral-matrix/description/)\n",
    "\n",
    "Given a matrix of m x n elements (m rows, n columns), return all elements of the matrix in spiral order.\n",
    "\n",
    "For example,\n",
    "```\n",
    "Given the following matrix:\n",
    "\n",
    "[\n",
    " [ 1, 2, 3 ],\n",
    " [ 4, 5, 6 ],\n",
    " [ 7, 8, 9 ]\n",
    "]\n",
    "You should return [1,2,3,6,9,8,7,4,5].\n",
    "```"
   ]
  },
  {
   "cell_type": "code",
   "execution_count": 10,
   "metadata": {},
   "outputs": [
    {
     "name": "stdout",
     "output_type": "stream",
     "text": [
      "[1, 2, 3, 6, 9, 8, 7, 4, 5]\n",
      "[1, 2, 3, 6, 9, 8, 7, 4, 5]\n",
      "[]\n",
      "[]\n",
      "[1, 2, 3]\n",
      "[1, 2, 3]\n",
      "[1, 2, 3]\n",
      "[1, 2, 3]\n"
     ]
    }
   ],
   "source": [
    "# first solution: first row + 90 degree rotated counter clockwise of the remaining \n",
    "def spiral(matrix):\n",
    "#     pass \n",
    "    if not matrix: return []\n",
    "    if len(matrix) == 1: return matrix[0]\n",
    "    remain = matrix[1:]\n",
    "    rotated_remain = [list(a) for a in zip(*remain)[::-1]]\n",
    "    return matrix[0] + spiral(rotated_remain)\n",
    "\n",
    "# 2nd solution \n",
    "def spiral2(matrix):\n",
    "    if not matrix or not matrix[0]: return [] \n",
    "    m, n = len(matrix), len(matrix[0])\n",
    "    res = []\n",
    "    u, d, l, r = 0, m-1, 0, n-1 \n",
    "    while u < d and l < r: \n",
    "        res.extend([matrix[u][i] for i in xrange(l, r)])\n",
    "        res.extend([matrix[i][r] for i in xrange(u, d)])\n",
    "        res.extend([matrix[d][i] for i in xrange(r, l, -1)])\n",
    "        res.extend([matrix[i][l] for i in xrange(d, u, -1)])\n",
    "        u, d, l, r = u+1, d-1, l+1, r-1 \n",
    "    if l == r: \n",
    "        res.extend([matrix[i][l] for i in xrange(u, d + 1)])\n",
    "    elif u == d: \n",
    "        res.extend([matrix[u][i] for i in xrange(l, r + 1)])\n",
    "\n",
    "    return res \n",
    "    \n",
    "    \n",
    "matrix0 = [\n",
    " [ 1, 2, 3 ],\n",
    " [ 4, 5, 6 ],\n",
    " [ 7, 8, 9 ]\n",
    "]\n",
    "\n",
    "matrix1 = [[]]\n",
    "matrix2 = [[1, 2, 3]]\n",
    "matrix3 = [[1],[2], [3]]\n",
    "for matrix in [matrix0, matrix1, matrix2, matrix3]:\n",
    "    print(spiral(matrix))\n",
    "    print(spiral2(matrix))\n",
    "\n"
   ]
  },
  {
   "cell_type": "markdown",
   "metadata": {},
   "source": [
    "## Max area of island \n",
    "\n",
    "Given a non-empty 2D array grid of 0's and 1's, an island is a group of 1's (representing land) connected 4-directionally (horizontal or vertical.) You may assume all four edges of the grid are surrounded by water.\n",
    "\n",
    "Find the maximum area of an island in the given 2D array. (If there is no island, the maximum area is 0.)\n",
    "\n",
    "Example 1:\n",
    "```\n",
    "[[0,0,1,0,0,0,0,1,0,0,0,0,0],\n",
    " [0,0,0,0,0,0,0,1,1,1,0,0,0],\n",
    " [0,1,1,0,1,0,0,0,0,0,0,0,0],\n",
    " [0,1,0,0,1,1,0,0,1,0,1,0,0],\n",
    " [0,1,0,0,1,1,0,0,1,1,1,0,0],\n",
    " [0,0,0,0,0,0,0,0,0,0,1,0,0],\n",
    " [0,0,0,0,0,0,0,1,1,1,0,0,0],\n",
    " [0,0,0,0,0,0,0,1,1,0,0,0,0]]\n",
    "Given the above grid, return 6. Note the answer is not 11, because the island must be connected 4-directionally.\n",
    "```\n",
    "Example 2:\n",
    "```\n",
    "[[0,0,0,0,0,0,0,0]]\n",
    "Given the above grid, return 0.\n",
    "```\n",
    "Note: The length of each dimension in the given grid does not exceed 50."
   ]
  },
  {
   "cell_type": "code",
   "execution_count": 6,
   "metadata": {},
   "outputs": [
    {
     "name": "stdout",
     "output_type": "stream",
     "text": [
      "6\n",
      "0\n",
      "4\n"
     ]
    }
   ],
   "source": [
    "def max_area(grid):\n",
    "    m, n = len(grid), len(grid[0])\n",
    "    maxa = 0 \n",
    "    visited = [[False]*n for _ in xrange(m)]\n",
    "    dirs = [(0, 1), (0, -1), (1, 0), (-1, 0)]\n",
    "    for i in range(m):\n",
    "        for j in range(n):\n",
    "            if not visited[i][j] and grid[i][j]: \n",
    "                cur_area = 0\n",
    "                queue = [(i, j)]\n",
    "                visited[i][j] = True \n",
    "                while queue:\n",
    "                    x, y = queue.pop(0) \n",
    "#                     visited[x][y] = True \n",
    "                    cur_area += 1\n",
    "                    for dx, dy in dirs: \n",
    "                        nx, ny = x + dx, y + dy \n",
    "                        if 0 <= nx < m and 0 <= ny < n and not visited[nx][ny] and grid[nx][ny]:\n",
    "                            queue.append((nx, ny))\n",
    "                            visited[nx][ny] = True \n",
    "                maxa = max(maxa, cur_area)\n",
    "    return maxa \n",
    "    # 119 ms, 56.7 % \n",
    "    \n",
    "# faster solution without using visited \n",
    "def max_area2(grid):\n",
    "    m, n = len(grid), len(grid[0])\n",
    "    maxa = 0 \n",
    "#     visited = [[False]*n for _ in xrange(m)]\n",
    "    dirs = [(0, 1), (0, -1), (1, 0), (-1, 0)]\n",
    "    for i in range(m):\n",
    "        for j in range(n):\n",
    "            if grid[i][j]: \n",
    "                cur_area = 0\n",
    "                queue = [(i, j)] \n",
    "                grid[i][j] = 0 \n",
    "                while queue:\n",
    "                    x, y = queue.pop(0) \n",
    "                    cur_area += 1\n",
    "                    for dx, dy in dirs: \n",
    "                        nx, ny = x + dx, y + dy \n",
    "                        if 0 <= nx < m and 0 <= ny < n and grid[nx][ny]:\n",
    "                            queue.append((nx, ny))\n",
    "                            grid[nx][ny] = 0 \n",
    "                maxa = max(maxa, cur_area)\n",
    "    return maxa \n",
    "    # 102 ms, 81.35% \n",
    "\n",
    "def max_area3(grid):\n",
    "    m, n = len(grid), len(grid[0])\n",
    "    dirs = [(0, 1), (0, -1), (1, 0), (-1, 0)]\n",
    "    def dfs(i, j):\n",
    "        if 0 <= i < m and 0 <= j < n and grid[i][j]:\n",
    "            grid[i][j] = 0 \n",
    "            return 1 + sum(dfs(i+dx, j + dy) for dx, dy in dirs)\n",
    "        return 0 \n",
    "    areas = [dfs(i, j) for i in range(m) for j in range(n) if grid[i][j]]\n",
    "    return max(areas) if areas else 0 \n",
    "    # 21.93%, 159 ms \n",
    "    \n",
    "grid0 = [[0,0,1,0,0,0,0,1,0,0,0,0,0],\n",
    " [0,0,0,0,0,0,0,1,1,1,0,0,0],\n",
    " [0,1,1,0,1,0,0,0,0,0,0,0,0],\n",
    " [0,1,0,0,1,1,0,0,1,0,1,0,0],\n",
    " [0,1,0,0,1,1,0,0,1,1,1,0,0],\n",
    " [0,0,0,0,0,0,0,0,0,0,1,0,0],\n",
    " [0,0,0,0,0,0,0,1,1,1,0,0,0],\n",
    " [0,0,0,0,0,0,0,1,1,0,0,0,0]]\n",
    "\n",
    "grid1 = [[0, 0, 0]]\n",
    "\n",
    "grid2 = [[1,1,0,0,0],[1,1,0,0,0],[0,0,0,1,1],[0,0,0,1,1]]\n",
    "for grid in [grid0, grid1, grid2]:\n",
    "    print(max_area2(grid))\n"
   ]
  },
  {
   "cell_type": "markdown",
   "metadata": {},
   "source": [
    "## Can place flowers\n",
    "[Source](https://leetcode.com/problems/can-place-flowers/description/) \n",
    "\n",
    "Suppose you have a long flowerbed in which some of the plots are planted and some are not. However, flowers cannot be planted in adjacent plots - they would compete for water and both would die.\n",
    "\n",
    "Given a flowerbed (represented as an array containing 0 and 1, where 0 means empty and 1 means not empty), and a number n, return if n new flowers can be planted in it without violating the no-adjacent-flowers rule.\n",
    "\n",
    "Example 1:\n",
    "```\n",
    "Input: flowerbed = [1,0,0,0,1], n = 1\n",
    "Output: True\n",
    "```\n",
    "Example 2:\n",
    "```\n",
    "Input: flowerbed = [1,0,0,0,1], n = 2\n",
    "Output: False\n",
    "```\n",
    "Note:\n",
    "The input array won't violate no-adjacent-flowers rule.\n",
    "The input array size is in the range of [1, 20000].\n",
    "n is a non-negative integer which won't exceed the input array size.\n",
    "\n",
    "\n"
   ]
  },
  {
   "cell_type": "code",
   "execution_count": 12,
   "metadata": {},
   "outputs": [
    {
     "name": "stdout",
     "output_type": "stream",
     "text": [
      "True\n",
      "False\n",
      "True\n"
     ]
    }
   ],
   "source": [
    "def canPlaceFlowers(nums, n):\n",
    "    # 58 ms, 75%\n",
    "    if n == 0: return True \n",
    "    nums = [0] + nums + [0]\n",
    "    cnt = 0 \n",
    "    for i in range(1, len(nums) - 1):\n",
    "        if not (nums[i] + nums[i-1] + nums[i+1]):\n",
    "            cnt += 1\n",
    "            nums[i] = 1 \n",
    "            if cnt >= n: return True \n",
    "    return False \n",
    "\n",
    "nums = [1,0,0,0,1] \n",
    "n = 1\n",
    "print(canPlaceFlowers(nums, n))\n",
    "\n",
    "n = 2 \n",
    "print(canPlaceFlowers(nums, n)) # false \n",
    "print(canPlaceFlowers([0,0,1,0,1], 1)) # true "
   ]
  },
  {
   "cell_type": "markdown",
   "metadata": {},
   "source": [
    "## Longest Increasing Subsequce \n",
    "[Source](https://leetcode.com/problems/longest-increasing-subsequence/description/) \n",
    "\n",
    "Given an unsorted array of integers, find the length of longest increasing subsequence.\n",
    "\n",
    "For example,\n",
    "```\n",
    "Given [10, 9, 2, 5, 3, 7, 101, 18],\n",
    "The longest increasing subsequence is [2, 3, 7, 101], therefore the length is 4. Note that there may be more than one LIS combination, it is only necessary for you to return the length.\n",
    "```\n",
    "Your algorithm should run in O(n2) complexity.\n",
    "\n",
    "Follow up: Could you improve it to O(n log n) time complexity?\n",
    "\n"
   ]
  },
  {
   "cell_type": "code",
   "execution_count": 7,
   "metadata": {},
   "outputs": [
    {
     "name": "stdout",
     "output_type": "stream",
     "text": [
      "[1, 1, 1, 2, 2, 3, 4, 4, 1]\n",
      "4\n"
     ]
    }
   ],
   "source": [
    "def lis(A): \n",
    "    \"\"\"\n",
    "    idea: dp\n",
    "    dp[i]: = lis that ends at A[i]\n",
    "    space: O(n)\n",
    "    time: O(n^2) \n",
    "    \"\"\"\n",
    "    if not A: return 0 \n",
    "    n = len(A) \n",
    "    dp = [0]*n \n",
    "    for i, n in enumerate(A):\n",
    "        dp[i] = max([dp[j] + 1 for j in range(i) if A[j] < n] or [1])\n",
    "    print(dp) \n",
    "    return max(dp)\n",
    "    \n",
    "A = [10, 9, 2, 5, 3, 7, 101, 18, 0]\n",
    "print(lis(A))"
   ]
  },
  {
   "cell_type": "markdown",
   "metadata": {},
   "source": [
    "## Longest Increasing Path \n",
    "[Source](https://leetcode.com/problems/longest-increasing-path-in-a-matrix/description/) \n",
    "\n",
    "Given an integer matrix, find the length of the longest increasing path.\n",
    "\n",
    "From each cell, you can either move to four directions: left, right, up or down. You may NOT move diagonally or move outside of the boundary (i.e. wrap-around is not allowed).\n",
    "\n",
    "Example 1:\n",
    "```\n",
    "nums = [\n",
    "  [9,9,4],\n",
    "  [6,6,8],\n",
    "  [2,1,1]\n",
    "]\n",
    "Return 4\n",
    "The longest increasing path is [1, 2, 6, 9].\n",
    "```\n",
    "Example 2:\n",
    "```\n",
    "nums = [\n",
    "  [3,4,5],\n",
    "  [3,2,6],\n",
    "  [2,2,1]\n",
    "]\n",
    "Return 4\n",
    "The longest increasing path is [3, 4, 5, 6]. Moving diagonally is not allowed.\n",
    "```\n"
   ]
  },
  {
   "cell_type": "code",
   "execution_count": 2,
   "metadata": {},
   "outputs": [
    {
     "name": "stdout",
     "output_type": "stream",
     "text": [
      "4\n",
      "4\n"
     ]
    }
   ],
   "source": [
    "def LIP(matrix):\n",
    "    # 381ms, 66.92\n",
    "    if not matrix or not matrix[0]: return 0 \n",
    "    m, n = len(matrix), len(matrix[0])\n",
    "    dp = [[0]*n for _ in xrange(m)]\n",
    "    dirs = [(1, 0), (-1, 0), (0, 1), (0, -1)]\n",
    "    def dfs(i, j):\n",
    "        if not dp[i][j]:\n",
    "            neis = [dfs(x, y) for x,y in [(i-1, j), (i+1, j), (i, j-1), (i, j+1)]\n",
    "                    if 0 <= x < m and 0 <= y < n and \n",
    "                    matrix[x][y] < matrix[i][j]]\n",
    "            dp[i][j] = max(neis) + 1 if neis else 1\n",
    "        return dp[i][j]\n",
    "    lens = [dfs(i,j) for i in xrange(m) for j in xrange(n)]\n",
    "#     print(dp)\n",
    "    return max(lens)\n",
    "    \n",
    "#     pass \n",
    "\n",
    "\n",
    "nums1 = [\n",
    "  [9,9,4],\n",
    "  [6,6,8],\n",
    "  [2,1,1]\n",
    "]\n",
    "\n",
    "nums2 = [\n",
    "  [3,4,5],\n",
    "  [3,2,6],\n",
    "  [2,2,1]\n",
    "]\n",
    "for nums in [nums1, nums2]:\n",
    "    print(LIP(nums))"
   ]
  },
  {
   "cell_type": "markdown",
   "metadata": {},
   "source": [
    "## Swim in Rising water \n",
    "\n",
    "[Source](https://leetcode.com/problems/swim-in-rising-water/description/) \n",
    "\n",
    "On an N x N grid, each square grid[i][j] represents the elevation at that point (i,j).\n",
    "\n",
    "Now rain starts to fall. At time t, the depth of the water everywhere is t. You can swim from a square to another 4-directionally adjacent square if and only if the elevation of both squares individually are at most t. You can swim infinite distance in zero time. Of course, you must stay within the boundaries of the grid during your swim.\n",
    "\n",
    "You start at the top left square (0, 0). What is the least time until you can reach the bottom right square (N-1, N-1)?\n",
    "\n",
    "Example 1:\n",
    "```\n",
    "Input: [[0,2],[1,3]]\n",
    "Output: 3\n",
    "```\n",
    "Explanation:\n",
    "At time 0, you are in grid location (0, 0).\n",
    "You cannot go anywhere else because 4-directionally adjacent neighbors have a higher elevation than t = 0.\n",
    "\n",
    "You cannot reach point (1, 1) until time 3.\n",
    "When the depth of water is 3, we can swim anywhere inside the grid.\n",
    "Example 2:\n",
    "```\n",
    "Input: [[0,1,2,3,4],[24,23,22,21,5],[12,13,14,15,16],[11,17,18,19,20],[10,9,8,7,6]]\n",
    "Output: 16\n",
    "Explanation:\n",
    " 0  1  2  3  4\n",
    "24 23 22 21  5\n",
    "12 13 14 15 16\n",
    "11 17 18 19 20\n",
    "10  9  8  7  6\n",
    "```\n",
    "The final route is marked in bold.\n",
    "We need to wait until time 16 so that (0, 0) and (4, 4) are connected.\n",
    "Note:\n",
    "\n",
    "2 <= N <= 50.\n",
    "grid[i][j] is a permutation of [0, ..., N*N - 1]."
   ]
  },
  {
   "cell_type": "code",
   "execution_count": 14,
   "metadata": {},
   "outputs": [
    {
     "name": "stdout",
     "output_type": "stream",
     "text": [
      "16\n"
     ]
    }
   ],
   "source": [
    "# idea: Binary search and DFS \n",
    "# find a good feasible domain of result (N*N-1 >= res >= grid[0][0])\n",
    "# for a value mid, check if there exist a path from (0, 0) to (N-1, N-1) where \n",
    "# all elems are at most mid \n",
    "# the minimum mid is the solution \n",
    "\n",
    "def swimInWater(grid):\n",
    "    N = len(grid)\n",
    "    lo = grid[0][0]\n",
    "    hi = N*N - 1 \n",
    "    dirs = [(1, 0), (-1, 0), (0, 1), (0, -1)]\n",
    "    # dfs \n",
    "    def valid(val):\n",
    "        visited = [[False]*N for _ in xrange(N)]\n",
    "        onpath = {(0, 0)}\n",
    "        while onpath: \n",
    "            i, j = onpath.pop()   \n",
    "            visited[i][j] = True \n",
    "            for di, dj in dirs: \n",
    "                x, y = i + di, j + dj\n",
    "                if 0 <= x < N and 0 <= y < N and not visited[x][y] and grid[x][y] <= val: \n",
    "                    if x == y == N - 1: return True \n",
    "                    onpath.add((x, y))\n",
    "        return False \n",
    "    # Binary search \n",
    "    while lo < hi: \n",
    "        mi = (lo + hi) // 2 \n",
    "        if valid(mi): hi = mi \n",
    "        else: lo = mi + 1 \n",
    "    return lo \n",
    "\n",
    "    \n",
    "grid = [[0,1,2,3,4],[24,23,22,21,5],[12,13,14,15,16],[11,17,18,19,20],[10,9,8,7,6]]\n",
    "print(swimInWater(grid))"
   ]
  },
  {
   "cell_type": "markdown",
   "metadata": {},
   "source": [
    "##  Merge Intervals\n",
    "[Source](https://leetcode.com/problems/merge-intervals/description/) \n",
    "\n",
    "Given a collection of intervals, merge all overlapping intervals.\n",
    "\n",
    "For example,\n",
    "```\n",
    "Given [1,3],[2,6],[8,10],[15,18],\n",
    "return [1,6],[8,10],[15,18].\n",
    "```\n",
    "\n"
   ]
  },
  {
   "cell_type": "code",
   "execution_count": 15,
   "metadata": {},
   "outputs": [
    {
     "name": "stdout",
     "output_type": "stream",
     "text": [
      "0\n",
      "[[0, 4]]\n"
     ]
    }
   ],
   "source": [
    "# Definition for an interval.\n",
    "class Interval(object):\n",
    "    def __init__(self, s=0, e=0):\n",
    "        self.start = s\n",
    "        self.end = e\n",
    "    \n",
    "#     def __str__(self):\n",
    "#         res = '['\n",
    "#         for \n",
    "\n",
    "def merge(intervals):\n",
    "    \"\"\"\n",
    "    :type intervals: List[Interval]\n",
    "    :rtype: List[Interval]\n",
    "    \"\"\"\n",
    "    def getstart(itv):\n",
    "        return itv.start \n",
    "    \n",
    "    intervals = sorted(intervals, key = getstart)\n",
    "    print(intervals[0].start)\n",
    "    res = [] \n",
    "    if len(intervals) == 0: return [] \n",
    "    cur_end = intervals[0].end \n",
    "    cur_start = intervals[0].start \n",
    "    for itv in intervals[1:]: \n",
    "        if cur_end < itv.start: \n",
    "            res.append([cur_start, cur_end])\n",
    "            cur_start, cur_end = itv.start, itv.end \n",
    "        else: \n",
    "            cur_end = max(itv.end, cur_end) \n",
    "            \n",
    "    res.append([cur_start, cur_end])\n",
    "    return res \n",
    "                         \n",
    "itvs = [[1,3],[2,6],[8,10],[15,18]]\n",
    "itvs = [[1, 4], [0, 4]]\n",
    "intervals = [Interval(s[0], s[1]) for s in itvs]\n",
    "print(merge(intervals))\n"
   ]
  },
  {
   "cell_type": "markdown",
   "metadata": {},
   "source": [
    "## 01 Matrix\n",
    "[Source](https://leetcode.com/problems/01-matrix/description/) \n",
    "Given a matrix consists of 0 and 1, find the distance of the nearest 0 for each cell.\n",
    "\n",
    "The distance between two adjacent cells is 1.\n",
    "Example 1: \n",
    "```\n",
    "Input:\n",
    "\n",
    "0 0 0\n",
    "0 1 0\n",
    "0 0 0\n",
    "Output:\n",
    "0 0 0\n",
    "0 1 0\n",
    "0 0 0\n",
    "```\n",
    "Example 2: \n",
    "```\n",
    "Input:\n",
    "\n",
    "0 0 0\n",
    "0 1 0\n",
    "1 1 1\n",
    "Output:\n",
    "0 0 0\n",
    "0 1 0\n",
    "1 2 1\n",
    "```\n",
    "Note:\n",
    "* The number of elements of the given matrix will not exceed 10,000.\n",
    "* There are at least one 0 in the given matrix.\n",
    "* The cells are adjacent in only four directions: up, down, left and right."
   ]
  },
  {
   "cell_type": "code",
   "execution_count": 17,
   "metadata": {},
   "outputs": [
    {
     "name": "stdout",
     "output_type": "stream",
     "text": [
      "[[0, 1, 0, 1, 2], [1, 1, 0, 0, 1], [0, 0, 0, 1, 0], [1, 0, 1, 1, 1], [1, 0, 0, 0, 1]]\n",
      "[[0, 1, 0, 1, 2], [1, 1, 0, 0, 1], [0, 0, 0, 1, 0], [1, 0, 1, 1, 1], [1, 0, 0, 0, 1]]\n"
     ]
    }
   ],
   "source": [
    "def updateMatrix(matrix): \n",
    "    \"\"\"\n",
    "    dp = [[-1]*n for _ in xrange(m)]\n",
    "    helper(i, j): compute for res[i][j]\n",
    "    if matrix[i][j] == 0> return 0 \n",
    "    else: return min(nei) + 1\n",
    "    \"\"\"\n",
    "    if not matrix: return [] \n",
    "    m, n = len(matrix), len(matrix[0])\n",
    "    res = [[-1]*n for _ in xrange(m)] # -1 means not visited \n",
    "    dirs = [(0, 1), (0, -1), (1, 0), (-1, 0)]\n",
    "    \n",
    "    # level 0 \n",
    "    todo = set() \n",
    "    for i in range(m):\n",
    "        for j in range(n): \n",
    "            if matrix[i][j] == 0: \n",
    "                res[i][j] = 0 \n",
    "                    for di, dj in dirs: \n",
    "                        x, y = i + di, j + dj\n",
    "                        if 0 <= x < m and 0 <= y < n and matrix[x][y]: \n",
    "    #                         print(x, y)\n",
    "                            todo.add((x, y)) \n",
    "    level = 0\n",
    "    while todo: \n",
    "#         print(todo)\n",
    "        level += 1\n",
    "        tmp = set()\n",
    "        for i, j in todo: \n",
    "            res[i][j] = level \n",
    "            \n",
    "            for di, dj in dirs: \n",
    "                x, y = i + di, j + dj \n",
    "                if 0 <= x < m and 0 <= y < n and (x, y) not in todo and res[x][y] < 0: \n",
    "                    tmp.add((x, y)) \n",
    "        todo = tmp \n",
    "    return res \n",
    "\n",
    "def updateMatrix1(matrix): \n",
    "    if not matrix or not matrix[0]: return matrix \n",
    "    m, n = len(matrix), len(matrix[0])\n",
    "    dp = [[matrix[i][j] * 10000 for j in range(n)] for i in range(m)]\n",
    "    def dfs(i,j): \n",
    "        if dp[i][j] == 10000:             \n",
    "            dp[i][j] = min(dp[x][y] for x, y in [(i-1, j), (i+1, j), (i, j-1), (i, j+1)] \n",
    "                          if 0 <= x < m and 0 <= y < n) + 1\n",
    "            if dp[i][j] >= 10000: \n",
    "                dp[i][j] = min(dfs(x, y) \n",
    "                               for x, y in [(i-1, j), (i+1, j), (i, j-1), (i, j+1)] \n",
    "                               if 0 <= x < m and 0 <= y < n) + 1\n",
    "        return dp[i][j]\n",
    "    res = [[dfs(i, j) for j in range(n)] for i in range(m)] \n",
    "    return res \n",
    "\n",
    "# matrix = [[0, 0, 0], [0, 1, 0], [1, 1, 1]]\n",
    "matrix = [[0,1,0,1,1],[1,1,0,0,1],[0,0,0,1,0],[1,0,1,1,1],[1,0,0,0,1]]\n",
    "# matrix = [[0,1,0],[0,1,0],[0,1,0],[0,1,0],[0,1,0]]\n",
    "print(updateMatrix1(matrix))\n",
    "print(updateMatrix(matrix))\n",
    "    "
   ]
  },
  {
   "cell_type": "markdown",
   "metadata": {},
   "source": [
    "## Find one duplicate in list \n",
    "\n",
    "Given a list of length N with elements being integers from 1 to N+1 (inclusive). We know that this list contain at least a duplicate. Find that value. \n",
    "\n",
    "Example: \n",
    "```\n",
    "A = [1, 3, 3, 2], return 3 \n",
    "A = [3, 2, 1, 1], return 1 \n",
    "A = [3, 3, 3 ,3], return 3 \n",
    "```\n",
    "\n",
    " "
   ]
  },
  {
   "cell_type": "code",
   "execution_count": 17,
   "metadata": {},
   "outputs": [
    {
     "name": "stdout",
     "output_type": "stream",
     "text": [
      "All tests passed!\n"
     ]
    }
   ],
   "source": [
    "\"\"\"\n",
    "### Idea\n",
    "Consider arrays: B = 0, A[0], A[A[0]], A[....], i.e., B[n] = A[B[n-1]]. \n",
    "Since values in this list are limited -> there are at least one duplicate. \n",
    "Suppose that B[i] == B[j] with smallest i, and i != j, then B[i+1] == B[j+1] ... \n",
    "-> we have a loop. \n",
    "\n",
    "B[i] == B[j] <=> A[B[i-1]] == A[B[j-1]]. Since B[i-1] != B[j-1], we must have B[i] = A[B[i-1]] is the result. \n",
    "\n",
    "B[i] is the first point of the loop. \n",
    "\n",
    "Ex: A = [1, 3, 3, 2], then B = [0, 1, 3, 2, 3, 2, 3, 2, 3, ....]\n",
    "Or B = 0 -> 1 -> 3 -> 2\n",
    "                 ^____|\n",
    "Similar to cycle linked list.append\n",
    "\"\"\"\n",
    "def findDuplicate(A):\n",
    "    slow = 0 \n",
    "    fast = 0\n",
    "    while True: \n",
    "        slow = A[slow] \n",
    "        fast = A[A[fast]]\n",
    "        if slow == fast: break \n",
    "    fast = 0 \n",
    "    while slow != fast: \n",
    "        slow = A[slow] \n",
    "        fast = A[fast]\n",
    "    return slow \n",
    "\n",
    "s1 = [([1, 3, 2, 2], 2), ([1, 1, 1, 1], 1), ([1, 3, 4, 3, 2], 3), ([1, 1], 1)]\n",
    "for s in s1: \n",
    "    res = findDuplicate(s[0])\n",
    "    assert res == s[1], print(s[0])\n",
    "    \n",
    "print('All tests passed!')\n",
    "    "
   ]
  },
  {
   "cell_type": "markdown",
   "metadata": {},
   "source": [
    "## Smallest Rectangle Enclosing Black Pixels\n",
    "[Source](https://leetcode.com/problems/smallest-rectangle-enclosing-black-pixels/description/)\n",
    "\n",
    "An image is represented by a binary matrix with 0 as a white pixel and 1 as a black pixel. The black pixels are connected, i.e., there is only one black region. Pixels are connected horizontally and vertically. Given the location (x, y) of one of the black pixels, return the area of the smallest (axis-aligned) rectangle that encloses all black pixels.\n",
    "\n",
    "For example, given the following image:\n",
    "```\n",
    "[\n",
    "  \"0010\",\n",
    "  \"0110\",\n",
    "  \"0100\"\n",
    "]\n",
    "and x = 0, y = 2,\n",
    "Return 6.\n",
    "```"
   ]
  },
  {
   "cell_type": "code",
   "execution_count": 18,
   "metadata": {},
   "outputs": [
    {
     "name": "stdout",
     "output_type": "stream",
     "text": [
      "6\n"
     ]
    }
   ],
   "source": [
    "\"\"\"\n",
    "Idea: find the maxx, maxy, minx, miny among black pixels. The minimum area\n",
    "will be (maxx-minx)*(maxy - miny)\n",
    "Traverse all black pixels by dfs or bfs\n",
    "\"\"\"\n",
    "def minArea(image, x, y):\n",
    "    \"\"\"\n",
    "    :type image: List[List[str]]\n",
    "    :type x: int\n",
    "    :type y: int\n",
    "    :rtype: int\n",
    "    \"\"\"\n",
    "#     pass \n",
    "    if not image or not image[0]: return 0 \n",
    "    m, n = len(image), len(image[0])\n",
    "    visited = [[False]*n for _ in range(m)]\n",
    "    minx = maxx = x \n",
    "    miny = maxy = y \n",
    "    q = [(x, y)]\n",
    "#     image[x][y] = 0 \n",
    "    visited[x][y] = True \n",
    "    dirs = [(1, 0), (-1, 0), (0, 1), (0, -1)]\n",
    "    while q: \n",
    "        i, j = q.pop() \n",
    "#         print(i, j) \n",
    "        for di, dj in dirs: \n",
    "            u = i + di \n",
    "            v = j + dj\n",
    "            if 0 <= u <m and 0 <=v < n and not visited[u][v] and  image[u][v] == \"1\":\n",
    "                minx = min(minx, u) \n",
    "                miny = min(miny, v) \n",
    "                maxx= max( maxx, u) \n",
    "                maxy = max(maxy, v) \n",
    "#                 image[u][v]= 0 \n",
    "                visited[u][v] = True \n",
    "                q.append((u, v))\n",
    "    return (maxx - minx +1)*(maxy - miny + 1)\n",
    "        \n",
    "\n",
    "image = [\n",
    "  \"0010\",\n",
    "  \"0110\",\n",
    "  \"0100\"\n",
    "]\n",
    "\n",
    "x = 0\n",
    "y = 2 \n",
    "print(minArea(image, x, y))"
   ]
  },
  {
   "cell_type": "markdown",
   "metadata": {},
   "source": [
    "## 4. Median of Two Sorted Arrays\n",
    "[Source](https://leetcode.com/problems/median-of-two-sorted-arrays/description/)\n",
    "\n",
    "There are two sorted arrays nums1 and nums2 of size m and n respectively.\n",
    "\n",
    "Find the median of the two sorted arrays. The overall run time complexity should be O(log (m+n)).\n",
    "\n",
    "Example 1:\n",
    "```\n",
    "nums1 = [1, 3]\n",
    "nums2 = [2]\n",
    "\n",
    "The median is 2.0\n",
    "```\n",
    "Example 2:\n",
    "```\n",
    "nums1 = [1, 2]\n",
    "nums2 = [3, 4]\n",
    "\n",
    "The median is (2 + 3)/2 = 2.5\n",
    "```"
   ]
  },
  {
   "cell_type": "code",
   "execution_count": 19,
   "metadata": {},
   "outputs": [
    {
     "name": "stdout",
     "output_type": "stream",
     "text": [
      "All tests passed!!\n"
     ]
    }
   ],
   "source": [
    "\"\"\"\n",
    "For 1 sorted array nums, let n = len(nums) \n",
    "+ n odd: median = nums[n/2] \n",
    "+ n even: median = 0.5*(nums[n/2] + nums[n/2 -1])\n",
    "\n",
    "For 2 sorted arrays, let getkth(num1, num2, k) is its k-th element (start from 1)\n",
    "+ if n odd: return getkth(num1, num2, n/2 + 1)\n",
    "+ if n even: return 0.5*(getkth(num1, num2, n/2) + getkth(num1, num2, n/2 + 1))\n",
    "\"\"\"\n",
    "def getkth(A, B, k):\n",
    "    if len(A) > len(B): \n",
    "        A, B = B, A \n",
    "    if not A: \n",
    "        return B[k] \n",
    "    if k == len(A) + len(B) - 1: \n",
    "        return max(A[-1], B[-1])\n",
    "    i = len(A)/2 \n",
    "    j = k - i \n",
    "    if A[i] > B[j]: \n",
    "        # then res < A[i], res >= B[j]. In other words, \n",
    "        # we need to consider left half of A and right half of B \n",
    "        return getkth(A[:i], B[j:], i) # i = k -j \n",
    "    return getkth(A[i:], B[:j], j)\n",
    "    \n",
    "    \n",
    "\n",
    "def median2(num1, num2):   \n",
    "        \n",
    "    n = len(num1) + len(num2)\n",
    "    if n&1: return getkth(num1, num2, n/2)\n",
    "    return 0.5*(getkth(num1, num2, n/2) + getkth(num1, num2, n/2 -1))\n",
    "\n",
    "tests = [([1, 3], [2], 2.0), ([1, 2], [3, 4], 2.5), ([1, 3, 5], [2, 6, 10, 12], 5.0)]\n",
    "for test in tests: \n",
    "    res = median2(test[0], test[1])\n",
    "    assert res == test[2], str(test) + 'expect' + str(test[2]) + ', got ' + str(res)\n",
    "print('All tests passed!!')\n",
    "\n",
    "# print(getkth([1, 3], [2], 2))\n",
    "# print(median2([1], [2, 3]))"
   ]
  },
  {
   "cell_type": "markdown",
   "metadata": {},
   "source": [
    "## Sum three \n",
    "Given an array, find all three number such that sum of them equal to 0. "
   ]
  },
  {
   "cell_type": "code",
   "execution_count": 8,
   "metadata": {},
   "outputs": [
    {
     "name": "stdout",
     "output_type": "stream",
     "text": [
      "[[-24, 10, 14], [-5, -5, 10], [-5, -5, 10]]\n"
     ]
    }
   ],
   "source": [
    "\n",
    "from __future__ import print_function\n",
    "def sum3(A): \n",
    "    if not A: return [] \n",
    "    A.sort() # -24, -5, 5, 10, 14 \n",
    "    res = []\n",
    "    for n in range(len(A)):\n",
    "        l = n \n",
    "        r = len(A) - 1 \n",
    "        while l <= r: \n",
    "            s = A[n] + A[l] + A[r] \n",
    "#             print(n, l,r, s)\n",
    "            if s < 0:\n",
    "                l += 1 \n",
    "            elif s > 0: \n",
    "                r -= 1 \n",
    "            else: \n",
    "                res.append([A[n], A[l], A[r]])\n",
    "                l += 1 \n",
    "                r -=1 \n",
    "    return res \n",
    "        \n",
    "A = [5, -5, -5, 10, 14, -24]\n",
    "print(sum3(A))"
   ]
  },
  {
   "cell_type": "markdown",
   "metadata": {},
   "source": [
    "\n",
    "## And more\n",
    "\n",
    "[Leetcode Array](https://leetcode.com/tag/array/)"
   ]
  },
  {
   "cell_type": "markdown",
   "metadata": {
    "collapsed": true
   },
   "source": [
    "# Strings"
   ]
  },
  {
   "cell_type": "markdown",
   "metadata": {},
   "source": [
    "## Longest substring without repeating\n",
    "\n",
    "[Source](https://leetcode.com/problems/longest-substring-without-repeating-characters/description/)\n",
    "\n",
    "Given a string, find the length of the longest substring without repeating characters.\n",
    "\n",
    "Examples:\n",
    "\n",
    "Given \"abcabcbb\", the answer is \"abc\", which the length is 3.\n",
    "\n",
    "Given \"bbbbb\", the answer is \"b\", with the length of 1.\n",
    "\n",
    "Given \"pwwkew\", the answer is \"wke\", with the length of 3. Note that the answer must be a substring, \"pwke\" is a subsequence and not a substring.\n",
    "\n"
   ]
  },
  {
   "cell_type": "code",
   "execution_count": 10,
   "metadata": {},
   "outputs": [
    {
     "name": "stdout",
     "output_type": "stream",
     "text": [
      "All test passed!!!\n"
     ]
    }
   ],
   "source": [
    "# idea: hash map used \n",
    "# used[s] = the last index of s \n",
    "# start: starting index of the current considered substring \n",
    "\n",
    "def lengthOfLongestSubstring(s):\n",
    "#     pass \n",
    "    start = maxLen = 0 \n",
    "    used = {} \n",
    "    for i, c in enumerate(s):\n",
    "        if c in used and start <= used[c]: # repeat \n",
    "            start = used[c] + 1 \n",
    "        else: \n",
    "            maxLen = max(maxLen, i - start + 1)\n",
    "        used[c] = i \n",
    "    return maxLen \n",
    "\n",
    "p1 = ('abcabcbb', 3)\n",
    "p2 = ('', 0)\n",
    "p3 = ('bbbbbbbbbb', 1)\n",
    "p4 = ('pwwkew', 3)\n",
    "\n",
    "for p in [p1, p2, p3, p4]:\n",
    "    assert lengthOfLongestSubstring(p[0]) == p[1], str(lengthOfLongestSubstring(p[0]))\n",
    "print('All test passed!!!')"
   ]
  },
  {
   "cell_type": "markdown",
   "metadata": {},
   "source": [
    "## Valid parenthesis \n",
    "[Source](https://leetcode.com/problems/valid-parentheses/description/)\n",
    "\n",
    "Given a string containing just the characters '(', ')', '{', '}', '[' and ']', determine if the input string is valid.\n",
    "\n",
    "The brackets must close in the correct order, \"()\" and \"()[]{}\" are all valid but \"(]\" and \"([)]\" are not.\n",
    "\n"
   ]
  },
  {
   "cell_type": "code",
   "execution_count": 22,
   "metadata": {},
   "outputs": [
    {
     "name": "stdout",
     "output_type": "stream",
     "text": [
      "All test passed!!!\n"
     ]
    }
   ],
   "source": [
    "# idea: using a stack to store open ([{\n",
    "# if see a close, check if it match with stack.pop(), if not of stack is empty -> False \n",
    "# the final stack must be empty \n",
    "def isValid(s):\n",
    "    pair = {')': '(', ']': '[', '}': '{'}\n",
    "    stack = []\n",
    "    for c in s: \n",
    "        if c not in pair: # open \n",
    "            stack.append(c) \n",
    "        else: \n",
    "            if not stack or stack.pop() != pair[c]: return False \n",
    "    return not stack  \n",
    "\n",
    "p1 = ('()[{{()}}]', True)\n",
    "p2 = ('([)]', False)\n",
    "p3 = ('(({{{[[]()]}}}))', True)\n",
    "p4 = ('', True)\n",
    "p5 = ('((((()))', False)\n",
    "for p in [p1, p2, p3, p4, p5]:\n",
    "    assert isValid(p[0]) == p[1]\n",
    "print('All test passed!!!')"
   ]
  },
  {
   "cell_type": "markdown",
   "metadata": {},
   "source": [
    "## Generate parenthesis \n",
    "[Source](https://leetcode.com/problems/generate-parentheses/description/)\n",
    "\n",
    "Given n pairs of parentheses, write a function to generate all combinations of well-formed parentheses.\n",
    "\n",
    "```\n",
    "For example, given n = 3, a solution set is:\n",
    "[\n",
    "  \"((()))\",\n",
    "  \"(()())\",\n",
    "  \"(())()\",\n",
    "  \"()(())\",\n",
    "  \"()()()\"\n",
    "]\n",
    "```"
   ]
  },
  {
   "cell_type": "code",
   "execution_count": 23,
   "metadata": {},
   "outputs": [
    {
     "name": "stdout",
     "output_type": "stream",
     "text": [
      "['()']\n",
      "['(())', '()()']\n",
      "['((()))', '(()())', '(())()', '()(())', '()()()']\n"
     ]
    }
   ],
   "source": [
    "# \n",
    "def generateParenthesis(n):\n",
    "    def mygen(sofar, n_open, n_close):\n",
    "        if n_open: mygen(sofar + '(', n_open -1, n_close) \n",
    "        if n_open < n_close: mygen(sofar + ')', n_open, n_close - 1)\n",
    "        if n_close == 0: ans.append(sofar)\n",
    "    ans = [] \n",
    "    mygen(\"\", n, n) \n",
    "    return ans\n",
    "for n in xrange(1, 4):\n",
    "    print(generateParenthesis(n))"
   ]
  },
  {
   "cell_type": "markdown",
   "metadata": {},
   "source": [
    "## Palindromic substrings\n",
    "[Source](https://leetcode.com/problems/palindromic-substrings/description/)\n",
    "\n",
    "Given a string, your task is to count how many palindromic substrings in this string.\n",
    "\n",
    "The substrings with different start indexes or end indexes are counted as different substrings even they consist of same characters.\n",
    "\n",
    "Example 1:\n",
    "```\n",
    "Input: \"abc\"\n",
    "Output: 3\n",
    "Explanation: Three palindromic strings: \"a\", \"b\", \"c\".\n",
    "```\n",
    "Example 2:\n",
    "```\n",
    "Input: \"aaa\"\n",
    "Output: 6\n",
    "Explanation: Six palindromic strings: \"a\", \"a\", \"a\", \"aa\", \"aa\", \"aaa\".\n",
    "``` \n",
    "Note:\n",
    "The input string length won't exceed 1000.\n"
   ]
  },
  {
   "cell_type": "markdown",
   "metadata": {},
   "source": [
    "## Letter Combinations of a Phone Number\n",
    "[Source](https://leetcode.com/problems/letter-combinations-of-a-phone-number/description/) \n",
    "\n",
    "DescriptionHintsSubmissionsDiscussSolution\n",
    "Pick One\n",
    "Given a digit string, return all possible letter combinations that the number could represent.\n",
    "\n",
    "A mapping of digit to letters (just like on the telephone buttons) is given below.\n",
    "```\n",
    "Input:Digit string \"23\"\n",
    "Output: [\"ad\", \"ae\", \"af\", \"bd\", \"be\", \"bf\", \"cd\", \"ce\", \"cf\"].\n",
    "\n",
    "```"
   ]
  },
  {
   "cell_type": "code",
   "execution_count": 24,
   "metadata": {
    "collapsed": true
   },
   "outputs": [],
   "source": [
    "def letterPhone(s):\n",
    "    d = {\"0\": ' ', \n",
    "        \"2\":'abc',\n",
    "         \"3\": 'def',\n",
    "         \"4\":'ghi',\n",
    "         \"5\":'jkl',\n",
    "         \"6\": 'mno',\n",
    "         \"7\": 'pqrs',\n",
    "         \"8\": 'tuv',\n",
    "         \"9\": 'wxyz'\n",
    "        }\n",
    "    if len(s) == 0: return [''] \n",
    "    return [i + res for i in d[s[0]] for res in letterPhone(s[1:])]\n",
    "    \n",
    "s = ('23', [\"ad\", \"ae\", \"af\", \"bd\", \"be\", \"bf\", \"cd\", \"ce\", \"cf\"])\n",
    "assert set(letterPhone(s[0])) == set(s[1]), letterPhone(s[0])"
   ]
  },
  {
   "cell_type": "markdown",
   "metadata": {},
   "source": [
    "## Basic Calculator\n",
    "\n",
    "[Source](https://leetcode.com/problems/basic-calculator/description/)\n",
    "\n",
    "DescriptionHintsSubmissionsDiscussSolution\n",
    "Pick One\n",
    "Implement a basic calculator to evaluate a simple expression string.\n",
    "\n",
    "The expression string may contain open ( and closing parentheses ), the plus + or minus sign -, non-negative integers and empty spaces .\n",
    "\n",
    "You may assume that the given expression is always valid.\n",
    "\n",
    "Some examples:\n",
    "```\n",
    "\"1 + 1\" = 2\n",
    "\" 2-1 + 2 \" = 3\n",
    "\"(1+(4+5+2)-3)+(6+8)\" = 23\n",
    "```"
   ]
  },
  {
   "cell_type": "code",
   "execution_count": 25,
   "metadata": {},
   "outputs": [
    {
     "name": "stdout",
     "output_type": "stream",
     "text": [
      "All tests passed!!!\n"
     ]
    }
   ],
   "source": [
    "\n",
    "def calculate0(s):\n",
    "    nustack = [] \n",
    "    opstack = [] \n",
    "    sign_dict = {'+': 1, '-': -1}\n",
    "    for c in s: \n",
    "        print(nustack, opstack)\n",
    "        \n",
    "        if '0' <= c <= '9':\n",
    "            curr = 0 \n",
    "            curr = int(c)\n",
    "            nustack.append(curr)\n",
    "            # easy first, 1-digit nunber only \n",
    "            while opstack and opstack[-1] in sign_dict: \n",
    "                nustack.append(sign_dict[opstack[-1]]*nustack.pop() + nustack.pop()) \n",
    "                opstack.pop() \n",
    "                \n",
    "        elif c in '(-+': \n",
    "            opstack.append(c)\n",
    "        elif c == ')':\n",
    "            opstack.pop() \n",
    "            \n",
    "    while opstack and opstack[-1] in sign_dict: \n",
    "        nustack.append(sign_dict[opstack[-1]]*nustack.pop() + nustack.pop()) \n",
    "        opstack.pop()\n",
    "    return nustack.pop() \n",
    "\n",
    "def calculate(s):\n",
    "    nustack = [] \n",
    "    opstack = [] \n",
    "    sign_dict = {'+': 1, '-': -1}\n",
    "    i = 0 \n",
    "    def process(): \n",
    "        while opstack and opstack[-1] in sign_dict: \n",
    "                nustack.append(sign_dict[opstack[-1]]*nustack.pop() + nustack.pop()) \n",
    "                opstack.pop() \n",
    "                \n",
    "    while i < len(s):\n",
    "        curr = 0 \n",
    "        c = s[i]\n",
    "        if c in '(-+': \n",
    "            opstack.append(c)\n",
    "        elif c == ')':\n",
    "            opstack.pop()\n",
    "            process()\n",
    "        elif '0' <= s[i] <= '9':\n",
    "            start = i \n",
    "            while i < len(s) and '0' <= s[i] <= '9':\n",
    "                i += 1\n",
    "            curr = int(s[start:i])\n",
    "            nustack.append(curr)\n",
    "            process()\n",
    "            continue \n",
    "        i += 1 \n",
    "    return nustack.pop() \n",
    "        \n",
    "        \n",
    "#### \n",
    "# Keep a global running total and a stack of signs (+1 or -1), one for each open scope. The “global” outermost sign is +1.\n",
    "\n",
    "# Each number consumes a sign.\n",
    "# Each + and - causes a new sign.\n",
    "# Each ( duplicates the current sign so it can be used for the first term inside the new scope. That’s also why I start with [1, 1] - the global sign 1 and a duplicate to be used for the first term, since expressions start like 3... or (..., not like +3... or +(....\n",
    "# Each ) closes the current scope and thus drops the current sign.\n",
    "# Also see the example trace below my programs.\n",
    "\n",
    "def calculate1(s):\n",
    "    total = 0 \n",
    "    i = 0 \n",
    "    signs = [1, 1]\n",
    "    while i < len(s): \n",
    "        c = s[i]\n",
    "        if c.isdigit(): \n",
    "            start = i \n",
    "            while i < len(s) and s[i].isdigit(): \n",
    "                i += 1 \n",
    "            total += signs.pop()*int(s[start:i])\n",
    "            continue \n",
    "        elif c in '+-(':\n",
    "            signs += signs[-1] * (1, -1)[c == '-'],\n",
    "        elif c == ')':\n",
    "            signs.pop() \n",
    "        i += 1 \n",
    "    return total \n",
    "\n",
    "\n",
    "    \n",
    "    \n",
    "tests = [\n",
    "    (\"(11 - (30 - 4))\", -15),\n",
    "    (\"1 + 1\", 2),\n",
    "    (\" 2- 1 + 2 \", 3), \n",
    "    (\"(7) - (0) + (4)\", 11),\n",
    "    (\"(1+(4+5+2)-3)+(6+8)\", 23)\n",
    "]\n",
    "\n",
    "for test in tests: \n",
    "    assert calculate(test[0]) == test[1], str(calculate(test[0]))\n",
    "print('All tests passed!!!')"
   ]
  },
  {
   "cell_type": "markdown",
   "metadata": {},
   "source": [
    "## remove to have valid parentthesis "
   ]
  },
  {
   "cell_type": "code",
   "execution_count": 10,
   "metadata": {},
   "outputs": [
    {
     "name": "stdout",
     "output_type": "stream",
     "text": [
      "()((()))\n"
     ]
    }
   ],
   "source": [
    "def balance(s): \n",
    "    cnt1 =0 \n",
    "    cnt2 = 0\n",
    "\n",
    "    res = ''\n",
    "    for c in s: \n",
    "        if c == '(': \n",
    "            cnt1 += 1\n",
    "            res += c \n",
    "        else: \n",
    "            if cnt1 == cnt2: \n",
    "                continue \n",
    "            cnt2 += 1\n",
    "            res += c \n",
    "    res2 = '' \n",
    "    cnt1 = cnt2 = 0 \n",
    "    for c in res[::-1]:\n",
    "        if c == ')': \n",
    "            cnt2 += 1 \n",
    "            res2 = c + res2 \n",
    "        else: \n",
    "            if cnt1 == cnt2: \n",
    "                continue \n",
    "            cnt1 += 1 \n",
    "            res2 = c + res2 \n",
    "    return res2 \n",
    "\n",
    "def balance2(s): \n",
    "    stack = []\n",
    "    res = ''\n",
    "    for i, c in enumerate(s): \n",
    "        if c == '(':\n",
    "            res += c\n",
    "            stack.append(i) \n",
    "        elif stack: \n",
    "            res += c\n",
    "            stack.pop() \n",
    "    return ''.join(res[i] for i in range(len(res)) if i not in stack)\n",
    "s = '()((((((()))'\n",
    "print(balance2(s))\n",
    "    "
   ]
  },
  {
   "cell_type": "markdown",
   "metadata": {},
   "source": [
    "## Find All Anagrams in a String \n",
    "[Source](https://leetcode.com/problems/find-all-anagrams-in-a-string/)\n",
    "\n",
    "Given a string s and a non-empty string p, find all the start indices of p's anagrams in s.\n",
    "\n",
    "Strings consists of lowercase English letters only and the length of both strings s and p will not be larger than 20,100.\n",
    "\n",
    "The order of output does not matter.\n",
    "\n",
    "Example 1:\n",
    "```\n",
    "Input:\n",
    "s: \"cbaebabacd\" p: \"abc\"\n",
    "\n",
    "Output:\n",
    "[0, 6]\n",
    "\n",
    "Explanation:\n",
    "The substring with start index = 0 is \"cba\", which is an anagram of \"abc\".\n",
    "The substring with start index = 6 is \"bac\", which is an anagram of \"abc\".\n",
    "```\n",
    "Example 2:\n",
    "```\n",
    "Input:\n",
    "s: \"abab\" p: \"ab\"\n",
    "\n",
    "Output:\n",
    "[0, 1, 2]\n",
    "\n",
    "Explanation:\n",
    "The substring with start index = 0 is \"ab\", which is an anagram of \"ab\".\n",
    "The substring with start index = 1 is \"ba\", which is an anagram of \"ab\".\n",
    "The substring with start index = 2 is \"ab\", which is an anagram of \"ab\".\n",
    "```"
   ]
  },
  {
   "cell_type": "code",
   "execution_count": 9,
   "metadata": {},
   "outputs": [
    {
     "name": "stdout",
     "output_type": "stream",
     "text": [
      "[0, 6]\n"
     ]
    }
   ],
   "source": [
    "from __future__ import print_function\n",
    "from collections import defaultdict, Counter \n",
    "\n",
    "def findAnagrams(s, p): \n",
    "    if len(s) < len(p): return [] \n",
    "    res = [] \n",
    "    pCounter = Counter(p) \n",
    "    sCounter = Counter(s[:len(p) - 1]) # leave the last elem in the for loop \n",
    "    for i in range(len(p) - 1, len(s)): \n",
    "        sCounter[s[i]] += 1 \n",
    "        begin = i - len(p) + 1\n",
    "        if sCounter == pCounter: \n",
    "            res.append(begin) \n",
    "        sCounter[s[begin]] -= 1 \n",
    "        if sCounter[s[begin]] == 0: \n",
    "            del sCounter[s[begin]]\n",
    "    return res \n",
    "    \n",
    "s = \"cbaebabacd\" \n",
    "p = \"abc\" \n",
    "print(findAnagrams(s, p))"
   ]
  },
  {
   "cell_type": "markdown",
   "metadata": {},
   "source": [
    "## Longest Substring with at most two distinct chars \n",
    "[Source](https://leetcode.com/problems/longest-substring-with-at-most-two-distinct-characters/description/) \n",
    "\n",
    "Given a string s , find the length of the longest substring t  that contains at most 2 distinct characters.\n",
    "\n",
    "Example 1:\n",
    "```\n",
    "Input: \"eceba\"\n",
    "Output: 3\n",
    "Explanation: t is \"ece\" which its length is 3.\n",
    "```\n",
    "Example 2:\n",
    "```\n",
    "Input: \"ccaabbb\"\n",
    "Output: 5\n",
    "Explanation: t is \"aabbb\" which its length is 5.\n",
    "```"
   ]
  },
  {
   "cell_type": "code",
   "execution_count": 13,
   "metadata": {},
   "outputs": [
    {
     "name": "stdout",
     "output_type": "stream",
     "text": [
      "6\n"
     ]
    }
   ],
   "source": [
    "from collections import defaultdict\n",
    "def lengthOfLongestSubstringTwoDistinct(s): \n",
    "    d = defaultdict(int) \n",
    "    res = 0 \n",
    "    l = r = 0 \n",
    "    while r < len(s): \n",
    "        d[s[r]] += 1 \n",
    "        while len(d) > 2: \n",
    "            d[s[l]] -= 1 \n",
    "            if d[s[l]] == 0: \n",
    "                del d[s[l]]\n",
    "            l+= 1 \n",
    "        res = max(res, r - l + 1) \n",
    "        r += 1 \n",
    "    return res \n",
    "            \n",
    "    \n",
    "s = \"ccaabbbccc\" \n",
    "print(lengthOfLongestSubstringTwoDistinct(s))"
   ]
  },
  {
   "cell_type": "markdown",
   "metadata": {
    "collapsed": true
   },
   "source": [
    "\n",
    "# Math \n",
    "## 264. Ugly Number II\n",
    "\n",
    "[Source](https://leetcode.com/problems/ugly-number-ii/description/)\n",
    "\n",
    "Write a program to find the n-th ugly number.\n",
    "\n",
    "Ugly numbers are positive numbers whose prime factors only include 2, 3, 5. For example, 1, 2, 3, 4, 5, 6, 8, 9, 10, 12 is the sequence of the first 10 ugly numbers.\n",
    "\n",
    "Note that 1 is typically treated as an ugly number, and n does not exceed 1690."
   ]
  },
  {
   "cell_type": "code",
   "execution_count": 26,
   "metadata": {},
   "outputs": [
    {
     "name": "stdout",
     "output_type": "stream",
     "text": [
      "All tests passed!!\n",
      "<generator object merge at 0x1067540a0>\n",
      "12\n"
     ]
    }
   ],
   "source": [
    "def ugly2(num):\n",
    "    nums = [1]*(num) \n",
    "    i2 = i3 = i5 = 0 \n",
    "    p = [2, 3, 5]\n",
    "    for i in range(1, num):\n",
    "        m = min(nums[i2]*2, nums[i3]*3, nums[i5]*5)\n",
    "        if m == nums[i2]*2: \n",
    "            i2 += 1 \n",
    "        if m == nums[i3]*3: \n",
    "            i3 += 1 \n",
    "        if m == nums[i5]*5:\n",
    "            i5 +=1 \n",
    "        nums[i] =m \n",
    "    return nums[-1]\n",
    "        \n",
    "def ugly3(num, p):\n",
    "    nums = [1]*num \n",
    "    np = len(p)\n",
    "    ids = [0]*len(p)\n",
    "\n",
    "#     p = [2, ]\n",
    "    for i in range(1, num):\n",
    "        m = min(nums[ids[j]]*p[j] for j in range(np))\n",
    "        for j in range(np):\n",
    "            if nums[ids[j]]*p[j] == m: ids[j] += 1\n",
    "                \n",
    "        nums[i] = m \n",
    "    return nums[-1]\n",
    "\n",
    "import heapq\n",
    "def ugly4(n, primes):\n",
    "    uglies = [1]\n",
    "    def gen(prime):\n",
    "        for ugly in uglies:\n",
    "            yield ugly * prime\n",
    "    merged = heapq.merge(*map(gen, primes))\n",
    "    print(merged)\n",
    "    while len(uglies) < n:\n",
    "        ugly = next(merged)\n",
    "        if ugly != uglies[-1]:\n",
    "            uglies.append(ugly)\n",
    "    return uglies[-1]\n",
    "\n",
    "tests = [(1, 1), (2, 2), (3, 3), (4, (4), (10, 12))]\n",
    "for test in tests: \n",
    "    tmp = ugly2(test[0]) \n",
    "    assert tmp == test[1], str(test[0]) \n",
    "\n",
    "print('All tests passed!!')\n",
    "\n",
    "print(ugly4(10, [2, 3, 5]))"
   ]
  },
  {
   "cell_type": "markdown",
   "metadata": {},
   "source": [
    "## Number of factors "
   ]
  },
  {
   "cell_type": "code",
   "execution_count": 8,
   "metadata": {},
   "outputs": [
    {
     "name": "stdout",
     "output_type": "stream",
     "text": [
      "4\n"
     ]
    }
   ],
   "source": [
    "import collections \n",
    "def solution(n): \n",
    "    if n == 1: return 1 \n",
    "    visit = [True]*(n+1) \n",
    "    ps = [] \n",
    "    p = 2 \n",
    "    res = 1 \n",
    "#     for p in range(2, n+1): \n",
    "    while p < n + 1: \n",
    "        if visit[p]:\n",
    "            cnt = 0     \n",
    "            while n%p == 0: \n",
    "                cnt += 1\n",
    "                n/= p \n",
    "            res*=cnt+1          \n",
    "            start = p*p \n",
    "            while start < n+1: \n",
    "                visit[start] = False \n",
    "                start += p\n",
    "        p += 1 \n",
    "    \n",
    "    return res \n",
    "\n",
    "print(solution(27043111))\n",
    "        "
   ]
  },
  {
   "cell_type": "markdown",
   "metadata": {
    "collapsed": true
   },
   "source": [
    "# Binary search "
   ]
  },
  {
   "cell_type": "markdown",
   "metadata": {},
   "source": [
    "## Binary search \n",
    "Given a sorted array and a number. Find index of that number in the array, if number is not in the array, return -1 "
   ]
  },
  {
   "cell_type": "code",
   "execution_count": 1,
   "metadata": {},
   "outputs": [
    {
     "name": "stdout",
     "output_type": "stream",
     "text": [
      "All tests passed!!\n"
     ]
    }
   ],
   "source": [
    "def binarysearch(A, n): \n",
    "#     pass \n",
    "#     if not A: return -1 \n",
    "    if not A or n < A[0] or n > A[-1]: return -1 \n",
    "    lo = 0\n",
    "    hi = len(A) - 1 \n",
    "    while lo <= hi: \n",
    "        mi = lo + (hi-lo)/2 \n",
    "        if A[mi] == n: return mi \n",
    "        if A[mi] < n: lo = mi + 1\n",
    "        else: hi = mi - 1 \n",
    "    return -1 \n",
    "    \n",
    "\n",
    "tests = [([1, 2, 5, 6], 0, -1), ([1, 2, 5, 6], 7, -1), ([1, 2, 5, 6], 4, -1), \n",
    "        ([1, 2, 5, 6], 1, 0), ([1], 1, 0), ([1, 2, 5, 6], 6, 3), ([0], 1, -1)]\n",
    "for test in tests: \n",
    "    res = binarysearch(test[0], test[1])\n",
    "    assert res == test[2], str(test)+ str(res) \n",
    "    \n",
    "print('All tests passed!!')"
   ]
  },
  {
   "cell_type": "code",
   "execution_count": 7,
   "metadata": {},
   "outputs": [
    {
     "name": "stdout",
     "output_type": "stream",
     "text": [
      "2\n"
     ]
    }
   ],
   "source": [
    "# first index \n",
    "\n",
    "def myfind(A, target): \n",
    "    if not A: return -1 \n",
    "    l = 0\n",
    "    r = len(A) - 1\n",
    "    while l < r: \n",
    "        m = l + (r-l)/2 \n",
    "        if A[m] < target: \n",
    "            l = m + 1 \n",
    "        elif A[m] > target: \n",
    "            r = m-1 \n",
    "        else: \n",
    "            r = m \n",
    "    return r \n",
    "A = [2, 2, 4] \n",
    "target = 4\n",
    "print(myfind(A, target))"
   ]
  },
  {
   "cell_type": "code",
   "execution_count": 11,
   "metadata": {},
   "outputs": [
    {
     "name": "stdout",
     "output_type": "stream",
     "text": [
      "1\n"
     ]
    }
   ],
   "source": [
    "# lastindex \n",
    "def myfind2(A, target): \n",
    "    if not A: return -1 \n",
    "    l = 0 \n",
    "    r = len(A) - 1 \n",
    "    while l < r: \n",
    "        m = r - (r-l)/2\n",
    "        if A[m] == target: \n",
    "            l = m \n",
    "        elif A[m] < target: \n",
    "            l = m+ 1 \n",
    "        else: \n",
    "            r = m - 1\n",
    "    return l \n",
    "A = [2, 2, 4] \n",
    "target = 2\n",
    "print(myfind2(A, target))"
   ]
  },
  {
   "cell_type": "code",
   "execution_count": 18,
   "metadata": {},
   "outputs": [
    {
     "name": "stdout",
     "output_type": "stream",
     "text": [
      "0\n"
     ]
    }
   ],
   "source": [
    "# first insert index \n",
    "def myfind3(A, target): \n",
    "    if not A: return 0 \n",
    "    if target > A[-1]: return len(A) \n",
    "    l, r = 0, len(A) - 1 \n",
    "    while l < r: \n",
    "        m = l + (r-l)/2 \n",
    "        if A[m] == target: \n",
    "            r = m \n",
    "        elif A[m] < target: \n",
    "            l = m + 1 \n",
    "        else: \n",
    "            r = m - 1 \n",
    "    return l \n",
    "A = [2, 2, 4] \n",
    "target = 0\n",
    "\n",
    "print(myfind3(A, target))"
   ]
  },
  {
   "cell_type": "markdown",
   "metadata": {},
   "source": [
    "## Minimum in rotated sorted array \n",
    "given a rotation of a non-empty sorted array, find index of the minimun \n",
    "no duplicate \n",
    "Ex: \n",
    "```\n",
    "nums = [4, 5, 6, 1], return 3\n",
    "nums = [1, 2, 3], return 0 \n",
    "nums = [1], return 0 \n",
    "nums = [8, 1, 2,3 ,4], return 1\n",
    "```"
   ]
  },
  {
   "cell_type": "code",
   "execution_count": 33,
   "metadata": {},
   "outputs": [
    {
     "name": "stdout",
     "output_type": "stream",
     "text": [
      "All tests passed!!\n"
     ]
    }
   ],
   "source": [
    "def rotatedmin(A): \n",
    "#     pass \n",
    "    def helper(A): \n",
    "        if not A: return -1 \n",
    "        if len(A) == 1: return 0 \n",
    "        if len(A) == 2: return 0 if A[0] < A[1] else 1 \n",
    "        if A[-1] > A[0]: # no rotatation \n",
    "            return 0\n",
    "        mid = len(A) /2 \n",
    "        if A[mid] > A[0]: # on right \n",
    "             return mid + 1+ helper(A[mid+1:])\n",
    "        return helper(A[:mid])\n",
    "            \n",
    "    return helper(A) \n",
    "\n",
    "def rotatedmin2(A): \n",
    "    if not A: return -1 \n",
    "    lo, hi = 0, len(A) - 1\n",
    "    while lo < hi: \n",
    "        mi = lo + (hi - lo) // 2\n",
    "        if A[mi] < A[hi]: # min in the left part \n",
    "            hi = mi\n",
    "        else: \n",
    "            lo = mi + 1\n",
    "    return lo \n",
    "\n",
    "tests = [([4, 5, 6, 2], 3), ([1, 2, 3], 0), ([1], 0), ([8, 1, 2, 3], 1), \n",
    "        ([1, 2, 3, 4, 5, 6, 0], 6)]\n",
    "for test in tests: \n",
    "    res = rotatedmin2(test[0])\n",
    "    assert res == test[1], str(test[0]) + str(res) \n",
    "    \n",
    "print('All tests passed!!')"
   ]
  },
  {
   "cell_type": "markdown",
   "metadata": {
    "collapsed": true
   },
   "source": [
    "### Aurora \n",
    "castle "
   ]
  },
  {
   "cell_type": "code",
   "execution_count": 11,
   "metadata": {},
   "outputs": [
    {
     "name": "stdout",
     "output_type": "stream",
     "text": [
      "1\n",
      "1\n",
      "2\n",
      "3\n",
      "3\n",
      "4\n",
      "4\n"
     ]
    }
   ],
   "source": [
    "def valley(A): \n",
    "    if len(A) == 1: return 1 \n",
    "    \n",
    "    i = 1\n",
    "    while i < len(A) and A[i] == A[i-1]: \n",
    "        i += 1 \n",
    "    if i == len(A): return 1 # all equal \n",
    "    res = 2 # at least one castle on the left \n",
    "    trend = -1 if A[i] < A[i-1] else 1 \n",
    "    for j in range(i, len(A)-1): \n",
    "        if A[j+1] == A[j]: continue         \n",
    "        new_trend = 1 if A[j+1] > A[j] else -1 \n",
    "        if new_trend*trend == -1: \n",
    "            res += 1 \n",
    "        trend = new_trend \n",
    "    \n",
    "    return res \n",
    "    \n",
    "tests = [([1], 1),\n",
    "       ([1, 1], 1),\n",
    "       ([1, 2, 3, 4], 2), \n",
    "       ([1, 2, 1], 3), \n",
    "         ([1, 0, 0, -1, -1, 1], 3),\n",
    "       ([2, 2, 3, 4, 3, 3, 2, 2, 1, 1, 2, 5], 4), \n",
    "        ([2, 2, 3, 4, 3, 3, 2, 2, 1, 1, 2, 5], 4)]\n",
    "for test in tests: \n",
    "    res = valley(test[0])\n",
    "    print res \n",
    "    assert res == test[1], str(test[0]) + str(res) \n",
    "    \n"
   ]
  },
  {
   "cell_type": "markdown",
   "metadata": {},
   "source": [
    "\n",
    "\n",
    "# City \n"
   ]
  },
  {
   "cell_type": "code",
   "execution_count": 16,
   "metadata": {},
   "outputs": [
    {
     "name": "stdout",
     "output_type": "stream",
     "text": [
      "[1, 3, 2, 3]\n"
     ]
    }
   ],
   "source": [
    "from collections import defaultdict \n",
    "def city(T, M): \n",
    "    if M == 1: return [0] \n",
    "    adj = defaultdict(list) \n",
    "    for i, j in enumerate(T): \n",
    "        if i == j: \n",
    "            capital = i\n",
    "            continue \n",
    "        adj[i].append(j) \n",
    "        adj[j].append(i) \n",
    "        \n",
    "    visited = [False]*M \n",
    "    visited[capital] = True \n",
    "    queue = [capital]\n",
    "    level = 1 \n",
    "    res = [] \n",
    "    while True:\n",
    "        tmp = [] \n",
    "        for city in queue: \n",
    "            for nei in adj[city]:\n",
    "                if not visited[nei]:\n",
    "                    tmp.append(nei) \n",
    "                    visited[nei] = True \n",
    "        if tmp: \n",
    "            res.append(len(tmp)) \n",
    "            queue[:] = tmp \n",
    "        else: \n",
    "            break \n",
    "    return res \n",
    "    \n",
    "    \n",
    "tests = [([9, 1, 4, 9, 0, 4, 8, 9, 0, 1], 10, [1, 3, 2, 3])]\n",
    "for test in tests: \n",
    "    res = city([9, 1, 4, 9, 0, 4, 8, 9, 0, 1], 10)\n",
    "    print res \n",
    "    assert res == test[2], str(test[0]) + str(res) \n",
    "# print city(test[])"
   ]
  },
  {
   "cell_type": "code",
   "execution_count": null,
   "metadata": {
    "collapsed": true
   },
   "outputs": [],
   "source": []
  }
 ],
 "metadata": {
  "kernelspec": {
   "display_name": "Python 2",
   "language": "python",
   "name": "python2"
  },
  "language_info": {
   "codemirror_mode": {
    "name": "ipython",
    "version": 2
   },
   "file_extension": ".py",
   "mimetype": "text/x-python",
   "name": "python",
   "nbconvert_exporter": "python",
   "pygments_lexer": "ipython2",
   "version": "2.7.13"
  },
  "latex_envs": {
   "LaTeX_envs_menu_present": true,
   "autoclose": false,
   "autocomplete": true,
   "bibliofile": "biblio.bib",
   "cite_by": "apalike",
   "current_citInitial": 1,
   "eqLabelWithNumbers": true,
   "eqNumInitial": 1,
   "hotkeys": {
    "equation": "Ctrl-E",
    "itemize": "Ctrl-I"
   },
   "labels_anchors": false,
   "latex_user_defs": false,
   "report_style_numbering": false,
   "user_envs_cfg": false
  },
  "toc": {
   "nav_menu": {},
   "number_sections": true,
   "sideBar": true,
   "skip_h1_title": false,
   "title_cell": "Table of Contents",
   "title_sidebar": "Contents",
   "toc_cell": false,
   "toc_position": {
    "height": "calc(100% - 180px)",
    "left": "10px",
    "top": "150px",
    "width": "383px"
   },
   "toc_section_display": true,
   "toc_window_display": true
  }
 },
 "nbformat": 4,
 "nbformat_minor": 2
}
