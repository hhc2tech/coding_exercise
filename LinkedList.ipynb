{
 "cells": [
  {
   "cell_type": "code",
   "execution_count": 1,
   "metadata": {
    "collapsed": true
   },
   "outputs": [],
   "source": [
    "from __future__ import print_function "
   ]
  },
  {
   "cell_type": "markdown",
   "metadata": {},
   "source": [
    "# Singly linked list"
   ]
  },
  {
   "cell_type": "markdown",
   "metadata": {},
   "source": [
    "## Define Node class"
   ]
  },
  {
   "cell_type": "code",
   "execution_count": 2,
   "metadata": {
    "collapsed": true
   },
   "outputs": [],
   "source": [
    "class ListNode(object):\n",
    "    def __init__(self, val = None):\n",
    "        self.val = val \n",
    "        self.next = None "
   ]
  },
  {
   "cell_type": "markdown",
   "metadata": {},
   "source": [
    "## Build a linked list from a list and print a linked list"
   ]
  },
  {
   "cell_type": "code",
   "execution_count": 5,
   "metadata": {
    "collapsed": true
   },
   "outputs": [],
   "source": [
    "# build from list \n",
    "\n",
    "def build_linked_list(vals):\n",
    "    if not vals: return None \n",
    "    head = curr = ListNode(vals[0])\n",
    "    if len(vals) > 1: \n",
    "        for val in vals[1:]:\n",
    "            curr.next = ListNode(val) \n",
    "            curr = curr.next \n",
    "    return head \n",
    "\n",
    "def llist2str(head):\n",
    "    if not head: return 'empty linked list'\n",
    "    res = ''\n",
    "    curr = head \n",
    "    while curr: \n",
    "        res += str(curr.val) \n",
    "#         if curr.next: \n",
    "        res += '->'\n",
    "        curr = curr.next\n",
    "    return res + 'NULL'\n",
    "    "
   ]
  },
  {
   "cell_type": "code",
   "execution_count": 6,
   "metadata": {},
   "outputs": [
    {
     "name": "stdout",
     "output_type": "stream",
     "text": [
      "1->2->3->4->NULL\n"
     ]
    }
   ],
   "source": [
    "h1 = build_linked_list([1, 2, 3, 4])\n",
    "print(llist2str(h1))"
   ]
  },
  {
   "cell_type": "markdown",
   "metadata": {},
   "source": [
    "## Remove the nth node from the end\n",
    "[Leetcode source](https://leetcode.com/problems/remove-nth-node-from-end-of-list/description/)\n",
    "\n",
    "Given a linked list, remove the nth node from the end of list and return its head.\n",
    "\n",
    "For example,\n",
    "```\n",
    "Given linked list: 1->2->3->4->5, and n = 2.\n",
    "\n",
    "After removing the second node from the end, the linked list becomes \n",
    "1->2->3->5.\n",
    "```\n",
    "Note:\n",
    "Given n will always be valid.\n",
    "Try to do this in one pass.\n",
    "\n"
   ]
  },
  {
   "cell_type": "code",
   "execution_count": 10,
   "metadata": {},
   "outputs": [
    {
     "name": "stdout",
     "output_type": "stream",
     "text": [
      "1->2->3->NULL\n",
      "2->NULL\n",
      "empty linked list\n"
     ]
    }
   ],
   "source": [
    "# edge cases\n",
    "# * n = 1\n",
    "# * the removed node is the head \n",
    "# idea: using one pointer to go ahead of n elements\n",
    "# example 1 -> 2 -> 3 -> 4 -> 5 \n",
    "# fast = 3, start = 1\n",
    "# fast = 4, start = 2\n",
    "# fast = 5, start = 3 \n",
    "# fast = None, start.next = start.next.next \n",
    "########## if the removed is the head \n",
    "# 1 -> 2 \n",
    "def removenthnode0(head, n): \n",
    "    if not head: return None \n",
    "    fast = head \n",
    "    for _ in range(n): \n",
    "        fast = fast.next \n",
    "    if not fast: return head.next \n",
    "    fast = fast.next \n",
    "    slow = head \n",
    "    while fast: \n",
    "        slow = slow.next \n",
    "        fast = fast.next \n",
    "    \n",
    "    slow.next = slow.next.next \n",
    "    return head \n",
    "\n",
    "def removenthnode(head, n): \n",
    "    if not head: return None \n",
    "    fast = slow = head \n",
    "    for _ in range(n): \n",
    "        fast = fast.next\n",
    "    if not fast: # remove head \n",
    "        return head.next \n",
    "    fast = fast.next \n",
    "    while fast: \n",
    "        slow = slow.next \n",
    "        fast = fast.next \n",
    "    slow.next = slow.next.next \n",
    "    return head \n",
    "    # 1 -> 2 -> 3 -> 4 \n",
    "h1 = build_linked_list([1, 2, 3, 4])\n",
    "print(llist2str(removenthnode(h1, 1)))\n",
    "\n",
    "h2 = build_linked_list([1, 2])\n",
    "print(llist2str(removenthnode(h2, 2)))\n",
    "\n",
    "h3 = build_linked_list([1])\n",
    "print(llist2str(removenthnode(h3, 1)))\n",
    "    "
   ]
  },
  {
   "cell_type": "code",
   "execution_count": 11,
   "metadata": {
    "collapsed": true
   },
   "outputs": [],
   "source": [
    "def remove_nth_node(head, n):\n",
    "    fast = slow = head \n",
    "    for _ in range(n):\n",
    "        fast = fast.next \n",
    "    # if n == len of linked list, then remove the head \n",
    "    if not fast: return head.next \n",
    "    while fast.next: \n",
    "        fast, slow = fast.next, slow.next \n",
    "    # remove \n",
    "    slow.next = slow.next.next \n",
    "    return head "
   ]
  },
  {
   "cell_type": "code",
   "execution_count": 12,
   "metadata": {},
   "outputs": [
    {
     "name": "stdout",
     "output_type": "stream",
     "text": [
      "1->2->4->NULL\n",
      "2->NULL\n",
      "empty linked list\n"
     ]
    }
   ],
   "source": [
    "h1 = build_linked_list([1, 2, 3, 4])\n",
    "print(llist2str(remove_nth_node(h1, 2)))\n",
    "\n",
    "h2 = build_linked_list([1, 2])\n",
    "print(llist2str(remove_nth_node(h2, 2)))\n",
    "\n",
    "h3 = build_linked_list([1])\n",
    "print(llist2str(remove_nth_node(h3, 1)))"
   ]
  },
  {
   "cell_type": "markdown",
   "metadata": {},
   "source": [
    "## Reverse a linked list\n",
    "[Leetcode source](https://leetcode.com/problems/reverse-linked-list/description/)"
   ]
  },
  {
   "cell_type": "code",
   "execution_count": 13,
   "metadata": {},
   "outputs": [
    {
     "name": "stdout",
     "output_type": "stream",
     "text": [
      "Reverse of empty linked list is: empty linked list\n",
      "Reverse of 1->NULL is: 1->NULL\n",
      "Reverse of 1->2->NULL is: 2->1->NULL\n",
      "Reverse of 1->2->3->NULL is: 3->2->1->NULL\n"
     ]
    }
   ],
   "source": [
    "# def reverse_linked_list(head):\n",
    "#     prev = None    \n",
    "#     while head: \n",
    "#         head, prev, prev.next = head.next, head, prev \n",
    "#     return prev \n",
    "\n",
    "def reverse_linked_list(head): \n",
    "    prev = None \n",
    "    while head: \n",
    "        prev, prev.next, head = head, prev, head.next \n",
    "    return prev \n",
    "\n",
    "\n",
    "h1 = build_linked_list([])\n",
    "h2 = build_linked_list([1])\n",
    "h3 = build_linked_list([1, 2])\n",
    "h4 = build_linked_list([1, 2, 3])\n",
    "\n",
    "print('Reverse of '+llist2str(h1) + ' is: ' + llist2str(reverse_linked_list(h1)))\n",
    "print('Reverse of '+llist2str(h2) + ' is: ' + llist2str(reverse_linked_list(h2)))\n",
    "print('Reverse of '+llist2str(h3) + ' is: ' + llist2str(reverse_linked_list(h3)))\n",
    "print('Reverse of '+llist2str(h4) + ' is: ' + llist2str(reverse_linked_list(h4)))"
   ]
  },
  {
   "cell_type": "markdown",
   "metadata": {},
   "source": [
    "## Palindrome \n",
    "[Leetcode source](https://leetcode.com/problems/palindrome-linked-list/description/)\n",
    "\n",
    "Given a singly linked list, determine if it is a palindrome.\n",
    "\n",
    "Follow up:\n",
    "Could you do it in O(n) time and O(1) space?"
   ]
  },
  {
   "cell_type": "code",
   "execution_count": 16,
   "metadata": {},
   "outputs": [
    {
     "name": "stdout",
     "output_type": "stream",
     "text": [
      "True\n",
      "True\n",
      "False\n",
      "True\n",
      "True\n",
      "False\n"
     ]
    }
   ],
   "source": [
    "# 1 -> 2 -> 3 -> 2 -> 1 \n",
    "# s/f/p = 1/1/None, 2/3/2, 3/1/2, slow next \n",
    "# 1 -> 2 -> 2 -> 1 \n",
    "# s/f/p = 1/1/None, 2/2/1, 2/None/2 \n",
    "\n",
    "def isPalindrome(head): \n",
    "    if not head: return True \n",
    "    slow = fast = head \n",
    "    prev = None \n",
    "    while fast and fast.next: \n",
    "        prev, prev.next, slow, fast = slow, prev, slow.next, fast.next.next \n",
    "    if fast: \n",
    "        slow = slow.next \n",
    "    while slow: \n",
    "        if slow.val != prev.val: return False \n",
    "        slow, prev = slow.next, prev.next \n",
    "    return True \n",
    "\n",
    "    \n",
    "h1 = build_linked_list([])\n",
    "h2 = build_linked_list([1])\n",
    "h3 = build_linked_list([1, 2])\n",
    "h4 = build_linked_list([1, 2, 3, 2, 1])\n",
    "h5 = build_linked_list([1, 2, 3, 3, 2, 1])\n",
    "h6 = build_linked_list([1, 2, 3, 3, 2])\n",
    "for h in [h1, h2, h3, h4, h5, h6]: \n",
    "    print(isPalindrome(h))"
   ]
  },
  {
   "cell_type": "markdown",
   "metadata": {},
   "source": [
    "## Merge two sorted linked lists\n",
    "\n",
    "[Leetcode source](https://leetcode.com/problems/merge-two-sorted-lists/description/)\n",
    "\n",
    "Merge two sorted linked lists and return it as a new list. The new list should be made by splicing together the nodes of the first two lists.\n",
    "\n",
    "Example:\n",
    "```\n",
    "Input: 1->2->4, 1->3->4\n",
    "Output: 1->1->2->3->4->4\n",
    "```"
   ]
  },
  {
   "cell_type": "code",
   "execution_count": 22,
   "metadata": {},
   "outputs": [
    {
     "name": "stdout",
     "output_type": "stream",
     "text": [
      "0->1->5->6->NULL\n"
     ]
    }
   ],
   "source": [
    "# \n",
    "def mergelist0(l1, l2): \n",
    "    d = l = ListNode(0) \n",
    "    while l1 and l2: \n",
    "        if l1.val < l2.val: \n",
    "            l.next = ListNode(l1.val) \n",
    "            l1 = l1.next \n",
    "        else: \n",
    "            l.next = ListNode(l2.val) \n",
    "            l2 = l2.next \n",
    "    l.next = l1 or l2 \n",
    "    return d.next \n",
    "\n",
    "def mergelist(h1, h2): \n",
    "    if not h1 or not h2: return h1 or h2 \n",
    "    dumm = l = ListNode(0) \n",
    "    while h1 and h2: \n",
    "        if h1.val < h2.val: \n",
    "            l.next = h1 \n",
    "            h1 = h1.next \n",
    "        else: \n",
    "            l.next = h2 \n",
    "            h2 = h2.next \n",
    "        l = l.next \n",
    "    l.next = h1 or h2 \n",
    "    return dumm.next \n",
    "\n",
    "h1 = build_linked_list([1, 6])\n",
    "h2 = build_linked_list([0, 5])\n",
    "print(llist2str(mergelist(h1, h2)))\n",
    "\n"
   ]
  },
  {
   "cell_type": "markdown",
   "metadata": {},
   "source": [
    "## Length of a list \n"
   ]
  },
  {
   "cell_type": "code",
   "execution_count": 23,
   "metadata": {},
   "outputs": [
    {
     "name": "stdout",
     "output_type": "stream",
     "text": [
      "0\n",
      "1\n",
      "3\n"
     ]
    }
   ],
   "source": [
    "def lenList(l): \n",
    "    if not l: return 0 \n",
    "    cnt = 0 \n",
    "    while l: \n",
    "        cnt += 1\n",
    "        l = l.next \n",
    "    return cnt \n",
    "h1 = build_linked_list([])\n",
    "h2 = build_linked_list([1])\n",
    "h3 = build_linked_list([1, 2, 3])\n",
    "\n",
    "for h in [h1, h2, h3]: \n",
    "    print(lenList(h))"
   ]
  },
  {
   "cell_type": "markdown",
   "metadata": {},
   "source": [
    "## Rotate a list\n",
    "\n",
    "[Leetcode](https://leetcode.com/problems/rotate-list/description/)\n",
    "\n",
    "Given a list, rotate the list to the right by k places, where k is non-negative.\n",
    "\n",
    "\n",
    "Example:\n",
    "```\n",
    "Given 1->2->3->4->5->NULL and k = 2,\n",
    "return 4->5->1->2->3->NULL.\n",
    "```"
   ]
  },
  {
   "cell_type": "code",
   "execution_count": 31,
   "metadata": {},
   "outputs": [
    {
     "name": "stdout",
     "output_type": "stream",
     "text": [
      "(0, '1->2->3->4->5->NULL')\n",
      "(1, '5->1->2->3->4->NULL')\n",
      "(2, '4->5->1->2->3->NULL')\n",
      "(3, '3->4->5->1->2->NULL')\n",
      "(4, '2->3->4->5->1->NULL')\n",
      "(5, '1->2->3->4->5->NULL')\n",
      "(6, '5->1->2->3->4->NULL')\n",
      "(7, '4->5->1->2->3->NULL')\n",
      "(8, '3->4->5->1->2->NULL')\n",
      "(9, '2->3->4->5->1->NULL')\n"
     ]
    }
   ],
   "source": [
    "def rotatelist(head, k): \n",
    "    \"\"\"\n",
    "    Idea: \n",
    "    If k > len of list (= n), we need to k%n (two pass)\n",
    "    \"\"\"\n",
    "    if not head: return head \n",
    "    cnt = 0 \n",
    "    curr = head \n",
    "    while curr: \n",
    "        cnt += 1\n",
    "        curr = curr.next \n",
    "    k = k %cnt \n",
    "    \n",
    "    if k == 0: return head \n",
    "    fast = head \n",
    "    for _ in range(k): \n",
    "        fast = fast.next \n",
    "#     if not fast: #k\n",
    "    slow = head \n",
    "    while fast.next: \n",
    "        fast= fast.next \n",
    "        slow = slow.next \n",
    "    tmp = slow.next \n",
    "    slow.next = None \n",
    "    fast.next = head\n",
    "    return tmp \n",
    "\n",
    "\n",
    "for k in range(10):\n",
    "    h = build_linked_list([1, 2, 3, 4, 5])\n",
    "    print(k, llist2str(rotatelist(h, k)))\n",
    "\n",
    "    "
   ]
  },
  {
   "cell_type": "markdown",
   "metadata": {},
   "source": [
    "## Cycle \n",
    "[Leetcode source](https://leetcode.com/problems/linked-list-cycle/description/)\n",
    "\n",
    "Given a linked list, determine if it has a cycle in it.\n",
    "\n",
    "Follow up:\n",
    "Can you solve it without using extra space?"
   ]
  },
  {
   "cell_type": "code",
   "execution_count": 10,
   "metadata": {},
   "outputs": [
    {
     "name": "stdout",
     "output_type": "stream",
     "text": [
      "All tests passed!!\n"
     ]
    }
   ],
   "source": [
    "def containCycle(head):\n",
    "    if not head: return False \n",
    "    slow = head \n",
    "    fast = head\n",
    "    while fast and fast.next: \n",
    "        slow, fast = slow.next, fast.next.next \n",
    "        if slow == fast: \n",
    "            return True \n",
    "    return False \n",
    "#     pass \n",
    "\n",
    "A = Node(0)\n",
    "B = Node(1) \n",
    "C = Node(2) \n",
    "D = Node(3)\n",
    "E = Node(4) \n",
    "A.next = B \n",
    "B.next = C \n",
    "C.next = D \n",
    "D.next = E \n",
    "E.next = C \n",
    "assert containCycle(A) == True \n",
    "A = Node(0)\n",
    "B = Node(1) \n",
    "C = Node(2) \n",
    "D = Node(3)\n",
    "E = Node(4) \n",
    "A.next = B \n",
    "B.next = C \n",
    "C.next = D \n",
    "D.next = E \n",
    "# E.next = C \n",
    "assert containCycle(A) == False  \n",
    "\n",
    "print('All tests passed!!')"
   ]
  },
  {
   "cell_type": "markdown",
   "metadata": {},
   "source": [
    "## Find start of cycle in linked list, if exist \n",
    "\n",
    "```\n",
    "A -> B -> C -> D -> E -> C: return C \n",
    "A -> B -> C: return None \n",
    "```"
   ]
  },
  {
   "cell_type": "code",
   "execution_count": 11,
   "metadata": {},
   "outputs": [
    {
     "name": "stdout",
     "output_type": "stream",
     "text": [
      "All tests passed!!\n"
     ]
    }
   ],
   "source": [
    "\"\"\"\n",
    "A -> B -> C -> D -> E \n",
    "          ^_________|\n",
    "First step:\n",
    "slow: A B C D  \n",
    "fast: A C E D \n",
    "Second step: \n",
    "slow: D E C \n",
    "fast: A B C \n",
    "\n",
    "A -> B -> C -> D \n",
    "^______________|\n",
    "slow: A B C D A  \n",
    "fast: A C A C A  \n",
    "---\n",
    "slow: A  \n",
    "fast: A \n",
    "\"\"\"\n",
    "\n",
    "def startCycleLinkedList(head):\n",
    "    if not head: return False \n",
    "    slow = fast = head \n",
    "    while fast and fast.next: \n",
    "        slow, fast = slow.next, fast.next.next \n",
    "        if slow == fast: \n",
    "            break \n",
    "    if slow != fast: \n",
    "        return None \n",
    "    fast = head \n",
    "    while slow != fast: \n",
    "        slow, fast = slow.next, fast.next \n",
    "    return slow \n",
    "#     pass \n",
    "\n",
    "\n",
    "A = Node(0)\n",
    "B = Node(1) \n",
    "C = Node(2) \n",
    "D = Node(3)\n",
    "E = Node(4) \n",
    "A.next = B \n",
    "B.next = C \n",
    "C.next = D \n",
    "D.next = E \n",
    "E.next = C \n",
    "tmp = startCycleLinkedList(A) \n",
    "assert tmp == C, print(tmp.val) \n",
    "\n",
    "A = Node(0) \n",
    "A.next = A \n",
    "\n",
    "tmp = startCycleLinkedList(A) \n",
    "assert tmp == A, print(tmp.val) \n",
    "\n",
    "print('All tests passed!!')\n"
   ]
  },
  {
   "cell_type": "markdown",
   "metadata": {
    "collapsed": true
   },
   "source": [
    "## Merge k Sorted Lists\n",
    "\n",
    "[Source](https://leetcode.com/problems/merge-k-sorted-lists/description/) \n",
    "\n",
    "DescriptionHintsSubmissionsDiscussSolution\n",
    "Pick One\n",
    "Merge k sorted linked lists and return it as one sorted list. Analyze and describe its complexity."
   ]
  },
  {
   "cell_type": "code",
   "execution_count": 37,
   "metadata": {},
   "outputs": [
    {
     "name": "stdout",
     "output_type": "stream",
     "text": [
      "0->1->2->5->NULL\n"
     ]
    },
    {
     "data": {
      "text/plain": [
       "<__main__.ListNode at 0x1091ea450>"
      ]
     },
     "execution_count": 37,
     "metadata": {},
     "output_type": "execute_result"
    }
   ],
   "source": [
    "# Idea: using heapq to store first elems in each linked list \n",
    "def mergeKLists0(lists):\n",
    "        \"\"\"\n",
    "        :type lists: List[ListNode]\n",
    "        :rtype: ListNode\n",
    "        \"\"\"\n",
    "        import heapq \n",
    "        q = []\n",
    "        for l in lists: \n",
    "            if l: heapq.heappush(q, (l.val, l))\n",
    "        dumm = head = Node(0) \n",
    "        while q: \n",
    "            val, l = heapq.heappop(q) \n",
    "            head.next = Node(val) \n",
    "            if l.next: heapq.heappush(q, (l.next.val, l.next))\n",
    "            head = head.next \n",
    "        return dumm.next \n",
    "def mergeKLists(lists): \n",
    "    import heapq \n",
    "    q = [] \n",
    "    for l in lists: \n",
    "        if l: heapq.heappush(q, (l.val, l))\n",
    "    dumm = head = ListNode(0) \n",
    "    while q: \n",
    "        _, l = heapq.heappop(q) \n",
    "        head.next = l \n",
    "        head = head.next \n",
    "        if l.next: heapq.heappush(q, (l.next.val, l.next))\n",
    "    return dumm.next \n",
    "\n",
    "l1 = build_linked_list([1]) \n",
    "l2 = build_linked_list([2, 5])\n",
    "l3 = build_linked_list([0])\n",
    "print(llist2str(mergeKLists([l1, l2, l3])))\n",
    "import random \n",
    "lists = [build_linked_list([random.randint(0, 10000)]) for _ in range(100000)]\n",
    "\n",
    "\n",
    "mergeKLists(lists)"
   ]
  },
  {
   "cell_type": "markdown",
   "metadata": {
    "collapsed": true
   },
   "source": [
    "## Add Two Numbers\n",
    "[Source](https://leetcode.com/problems/add-two-numbers/description/)\n",
    "\n",
    "You are given two non-empty linked lists representing two non-negative integers. The digits are stored in reverse order and each of their nodes contain a single digit. Add the two numbers and return it as a linked list.\n",
    "\n",
    "You may assume the two numbers do not contain any leading zero, except the number 0 itself.\n",
    "\n",
    "Example\n",
    "```\n",
    "Input: (2 -> 4 -> 3) + (5 -> 6 -> 4)\n",
    "Output: 7 -> 0 -> 8\n",
    "Explanation: 342 + 465 = 807.\n",
    "```"
   ]
  },
  {
   "cell_type": "code",
   "execution_count": 38,
   "metadata": {},
   "outputs": [
    {
     "name": "stdout",
     "output_type": "stream",
     "text": [
      "3->1->8->NULL\n"
     ]
    }
   ],
   "source": [
    "\n",
    "def addTwoNumbers(l1, l2):\n",
    "    # 110ms, 92%\n",
    "    \"\"\"\n",
    "    :type l1: ListNode\n",
    "    :type l2: ListNode\n",
    "    :rtype: ListNode\n",
    "    \"\"\"\n",
    "    if not l1 or not l2: return l1 or l2 \n",
    "    carry = 0 \n",
    "    dumm = head = ListNode(None) \n",
    "    while l1 and l2: \n",
    "        s = l1.val + l2.val + carry \n",
    "        l1, l2 = l1.next, l2.next \n",
    "        r, carry = s%10, s // 10 \n",
    "        head.next = ListNode(r) \n",
    "        head = head.next \n",
    "\n",
    "    tmp = l1 or l2 \n",
    "    if tmp:        \n",
    "        while carry and tmp: \n",
    "            s = tmp.val + carry \n",
    "            r, carry = s%10, s // 10 \n",
    "            head.next = ListNode(r) \n",
    "            head = head.next \n",
    "            tmp = tmp.next \n",
    "    if not carry: \n",
    "        head.next = tmp \n",
    "    else:\n",
    "        head.next = ListNode(1)\n",
    "    return dumm.next \n",
    "\n",
    "def addTwoNumbers2(l1, l2):\n",
    "    # 127ms, 58%\n",
    "    \"\"\"\n",
    "    :type l1: ListNode\n",
    "    :type l2: ListNode\n",
    "    :rtype: ListNode\n",
    "    \"\"\"\n",
    "    if not l1 or not l2: return l1 or l2 \n",
    "    carry = 0 \n",
    "    dumm = head = ListNode(None) \n",
    "    l1done = False  \n",
    "    while l1 or l2: \n",
    "        if l1: \n",
    "            carry += l1.val \n",
    "            l1 = l1.next \n",
    "        if l2: \n",
    "            carry += l2.val \n",
    "            l2 = l2.next \n",
    "        r, carry = carry%10, carry // 10 \n",
    "        head.next = ListNode(r) \n",
    "        head = head.next \n",
    "    if carry:\n",
    "        head.next = ListNode(1)\n",
    "    return dumm.next \n",
    "\n",
    "def addTwoNumbers3(l1, l2): \n",
    "    carry = 0 \n",
    "    dumm = head = ListNode(0) \n",
    "    while l1 or l2 or carry: \n",
    "        if l1: \n",
    "            carry += l1.val \n",
    "            l1 = l1.next \n",
    "        if l2: \n",
    "            carry += l2.val \n",
    "            l2 = l2.next \n",
    "        head.next = ListNode(carry%10) \n",
    "        head = head.next \n",
    "        carry /= 10 \n",
    "    return dumm.next \n",
    "l1 = build_linked_list([9, 8, 7])\n",
    "l2 = build_linked_list([4, 2])\n",
    "print(llist2str(addTwoNumbers3(l1, l2)))"
   ]
  },
  {
   "cell_type": "markdown",
   "metadata": {},
   "source": [
    "## 328. Odd Even Linked List\n",
    "[Source](https://leetcode.com/problems/odd-even-linked-list/description/)\n",
    "\n",
    "Given a singly linked list, group all odd nodes together followed by the even nodes. Please note here we are talking about the node number and not the value in the nodes.\n",
    "\n",
    "You should try to do it in place. The program should run in O(1) space complexity and O(nodes) time complexity.\n",
    "\n",
    "Example:\n",
    "```\n",
    "Given 1->2->3->4->5->NULL,\n",
    "return 1->3->5->2->4->NULL.\n",
    "```\n",
    "Note:\n",
    "The relative order inside both the even and odd groups should remain as it was in the input. \n",
    "The first node is considered odd, the second node even and so on ..."
   ]
  },
  {
   "cell_type": "code",
   "execution_count": 21,
   "metadata": {},
   "outputs": [
    {
     "name": "stdout",
     "output_type": "stream",
     "text": [
      "1->3->5->2->4->6->NULL\n"
     ]
    }
   ],
   "source": [
    "def oddEvenList(head):\n",
    "    \"\"\"\n",
    "    :type head: ListNode\n",
    "    :rtype: ListNode\n",
    "    \"\"\"\n",
    "    if not head or not head.next: return head \n",
    "    dummodd = ListNode(0)\n",
    "    dummeven = ListNode(0) \n",
    "    dummodd.next = curr_odd = head \n",
    "    dummeven.next = curr_evn = head.next \n",
    "    head = head.next.next \n",
    "    while head and head.next: \n",
    "        curr_odd.next = head \n",
    "        curr_odd = curr_odd.next \n",
    "        curr_evn.next = head.next \n",
    "        curr_evn = curr_evn.next \n",
    "        head = head.next.next \n",
    "    if head: # odd number of nodes \n",
    "        curr_odd.next = head \n",
    "        curr_odd = curr_odd.next\n",
    "    curr_evn.next = None \n",
    "    curr_odd.next = dummeven.next \n",
    "    return dummodd.next \n",
    "\n",
    "def oddEvenList2(head):\n",
    "    \"\"\"\n",
    "    :type head: ListNode\n",
    "    :rtype: ListNode\n",
    "    \"\"\"\n",
    "#     if not head or not head.next: return head \n",
    "    dummodd = curr_odd = ListNode(0)\n",
    "    dummeven = curr_evn = ListNode(0) \n",
    "    while head:\n",
    "        curr_odd.next = head \n",
    "        curr_evn.next = head.next \n",
    "        curr_odd = curr_odd.next \n",
    "        curr_evn = curr_evn.next \n",
    "        head = head.next.next if curr_evn else None \n",
    "\n",
    "    curr_odd.next = dummeven.next \n",
    "    return dummodd.next \n",
    "\n",
    "l1 = build_linked_list([1, 2, 3, 4, 5, 6])\n",
    "# l2 = oddEvenList(l1)\n",
    "print(llist2str(oddEvenList2(l1)))"
   ]
  },
  {
   "cell_type": "code",
   "execution_count": 99,
   "metadata": {},
   "outputs": [
    {
     "name": "stdout",
     "output_type": "stream",
     "text": [
      "1->NULL\n",
      "2->3->4->5->6->7->8->NULL\n",
      "1->NULL\n",
      "1->NULL\n",
      "3->4->5->6->7->8->NULL\n",
      "2->1->NULL\n",
      "1->NULL\n",
      "4->5->6->7->8->NULL\n",
      "3->2->1->NULL\n",
      "1->NULL\n",
      "5->6->7->8->NULL\n",
      "4->3->2->1->NULL\n",
      "1->NULL\n",
      "6->7->8->NULL\n",
      "5->4->3->2->1->NULL\n",
      "1->NULL\n",
      "7->8->NULL\n",
      "6->5->4->3->2->1->NULL\n",
      "1->NULL\n",
      "8->NULL\n",
      "7->6->5->4->3->2->1->NULL\n",
      "1->NULL\n",
      "empty linked list\n",
      "8->7->6->5->4->3->2->1->NULL\n",
      "1->NULL\n"
     ]
    }
   ],
   "source": [
    "\n",
    "def reverseNodesInKGroups(l, k):\n",
    "    if not l: return None\n",
    "    tail = l \n",
    "    # rev = None \n",
    "    prev = None\n",
    "    curr = l \n",
    "    # return l \n",
    "    for _ in range(k):\n",
    "        if not curr: return l \n",
    "        prev, curr, prev.next = curr, curr.next, prev\n",
    "        print(llist2str(l))\n",
    "        print(llist2str(curr))\n",
    "        print(llist2str(prev))\n",
    "\n",
    "#     print('a')\n",
    "    tail.next = reverseNodesInKGroups(curr, k)\n",
    "    return prev\n",
    "    \n",
    "    \n",
    "l = build_linked_list([1, 2, 3, 4, 5, 6, 7, 8])\n",
    "k = 10\n",
    "print(llist2str(reverseNodesInKGroups(l, k)))"
   ]
  },
  {
   "cell_type": "code",
   "execution_count": 105,
   "metadata": {},
   "outputs": [
    {
     "name": "stdout",
     "output_type": "stream",
     "text": [
      "3->2->1->4->5->NULL\n"
     ]
    }
   ],
   "source": [
    "def reverseKGroup(head, k):\n",
    "    if head is None or k < 2:\n",
    "        return head\n",
    "    \n",
    "    ret = head\n",
    "    for i in range(k - 1):\n",
    "        ret = ret.next\n",
    "        if ret is None:\n",
    "            return head\n",
    "            \n",
    "    prev, current = None, head\n",
    "    for i in range(k):\n",
    "        _next = current.next\n",
    "        current.next = prev\n",
    "        prev = current\n",
    "        current = _next\n",
    "        \n",
    "    head.next = reverseKGroup(current, k)\n",
    "    \n",
    "    return ret   \n",
    "l = build_linked_list([1, 2, 3, 4, 5])\n",
    "print(llist2str(reverseKGroup(l, 3)))"
   ]
  },
  {
   "cell_type": "markdown",
   "metadata": {},
   "source": [
    "## Partition list \n",
    "Given a linked list and a value \n",
    "return a list with all (< x) values of the original linked list come before all "
   ]
  },
  {
   "cell_type": "code",
   "execution_count": 13,
   "metadata": {},
   "outputs": [
    {
     "name": "stdout",
     "output_type": "stream",
     "text": [
      "1->2->3->5->6->7->8->NULL\n",
      "10->3->6->5->7->NULL\n",
      "1->5->2->NULL\n"
     ]
    }
   ],
   "source": [
    "def partitionList0(head, x):\n",
    "    left = ListNode(None) \n",
    "    dummyleft = left \n",
    "    right = ListNode(None) \n",
    "    dummyright = right \n",
    "    while head: \n",
    "        if head.val < x: \n",
    "            left.next = ListNode(head.val) \n",
    "            left = left.next \n",
    "        else:\n",
    "            right.next = ListNode(head.val) \n",
    "            right = right.next \n",
    "        head = head.next \n",
    "    left.next = dummyright.next \n",
    "    return dummyleft.next \n",
    "    \n",
    "def partitionList(head, x): \n",
    "    dumm1 = left = ListNode(0) \n",
    "    dumm2 = right = ListNode(0)\n",
    "#     dumm1 = dumm2 = left = right = ListNode(0)\n",
    "    while head: \n",
    "        if head.val < x: \n",
    "            left.next = ListNode(head.val) \n",
    "            left = left.next \n",
    "        else: \n",
    "            right.next = ListNode(head.val) \n",
    "            right = right.next \n",
    "        head = head.next \n",
    "    left.next = dumm2.next \n",
    "    return dumm1.next \n",
    "\n",
    "h1 = build_linked_list([1, 5, 6, 2, 7, 8, 3])\n",
    "h2 = build_linked_list([10, 3, 6, 5, 7])\n",
    "h3 = build_linked_list([1, 5, 2])\n",
    "\n",
    "# for h in [h1, h2, h3]:\n",
    "print(llist2str(partitionList(h1, 4)))\n",
    "print(llist2str(partitionList(h2, -10)))\n",
    "print(llist2str(partitionList(h3, 0)))\n"
   ]
  },
  {
   "cell_type": "code",
   "execution_count": 41,
   "metadata": {},
   "outputs": [
    {
     "name": "stdout",
     "output_type": "stream",
     "text": [
      "All tests passed!\n"
     ]
    }
   ],
   "source": [
    "def add1(nums): \n",
    "    \"\"\"\n",
    "    add 1 into nums. \n",
    "    nums is a list of digits forming a valid number\n",
    "    add1([]) or add1([0]) = [1] \n",
    "    add1([1]) = [2]\n",
    "    add1([9]) = [1, 0] \n",
    "    add1([1, 9]) = [2, 0] \n",
    "    \"\"\"\n",
    "    def help(nums): \n",
    "        if not nums: return ([1], 0) \n",
    "        if len(nums) == 1: return ([(nums[0]+1)%10], (nums[0] + 1)/10)\n",
    "        tmp = help(nums[1:]) \n",
    "        if tmp[1] == 0: \n",
    "            return ([nums[0]] + tmp[0], 0) \n",
    "        n = nums[0] + 1 \n",
    "        return ([n%10] + tmp[0], n/10)\n",
    "    tmp = help(nums)\n",
    "#     print tmp \n",
    "    if tmp[1]: return [1] + tmp[0]\n",
    "    return tmp[0]\n",
    "\n",
    "tests = [([], [1]), ([1], [2]), ([9], [1, 0]), ([1, 9], [2, 0]), ([9,9], [1, 0, 0])]\n",
    "for test in tests: \n",
    "    res = add1(test[0])\n",
    "    assert res == test[1], str(test[0]) + str(res)\n",
    "print('All tests passed!')"
   ]
  },
  {
   "cell_type": "code",
   "execution_count": null,
   "metadata": {
    "collapsed": true
   },
   "outputs": [],
   "source": []
  },
  {
   "cell_type": "code",
   "execution_count": null,
   "metadata": {
    "collapsed": true
   },
   "outputs": [],
   "source": []
  }
 ],
 "metadata": {
  "kernelspec": {
   "display_name": "Python 2",
   "language": "python",
   "name": "python2"
  },
  "language_info": {
   "codemirror_mode": {
    "name": "ipython",
    "version": 2
   },
   "file_extension": ".py",
   "mimetype": "text/x-python",
   "name": "python",
   "nbconvert_exporter": "python",
   "pygments_lexer": "ipython2",
   "version": "2.7.13"
  },
  "latex_envs": {
   "LaTeX_envs_menu_present": true,
   "autoclose": false,
   "autocomplete": true,
   "bibliofile": "biblio.bib",
   "cite_by": "apalike",
   "current_citInitial": 1,
   "eqLabelWithNumbers": true,
   "eqNumInitial": 1,
   "hotkeys": {
    "equation": "Ctrl-E",
    "itemize": "Ctrl-I"
   },
   "labels_anchors": false,
   "latex_user_defs": false,
   "report_style_numbering": false,
   "user_envs_cfg": false
  },
  "toc": {
   "nav_menu": {},
   "number_sections": true,
   "sideBar": true,
   "skip_h1_title": false,
   "title_cell": "Table of Contents",
   "title_sidebar": "Contents",
   "toc_cell": false,
   "toc_position": {
    "height": "calc(100% - 180px)",
    "left": "10px",
    "top": "150px",
    "width": "383px"
   },
   "toc_section_display": true,
   "toc_window_display": true
  }
 },
 "nbformat": 4,
 "nbformat_minor": 2
}
